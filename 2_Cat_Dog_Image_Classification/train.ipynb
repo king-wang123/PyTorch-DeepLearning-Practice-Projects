{
 "cells": [
  {
   "cell_type": "markdown",
   "id": "14c11c13-4fef-48c4-b2c6-9cb80114d7ae",
   "metadata": {},
   "source": [
    "### 数据读取"
   ]
  },
  {
   "cell_type": "code",
   "execution_count": 1,
   "id": "122dee9d-bacc-474e-be0d-e0cda205a081",
   "metadata": {},
   "outputs": [],
   "source": [
    "import numpy as np\n",
    "from torchvision import transforms, datasets\n",
    "import os\n",
    "import torch\n",
    "from torch.utils.data import DataLoader\n",
    "from tqdm import tqdm\n",
    "import matplotlib.pyplot as plt\n",
    "import numpy as np"
   ]
  },
  {
   "cell_type": "code",
   "execution_count": 2,
   "id": "dfc87e00-5f9e-47a0-8d44-cea4adf12b4b",
   "metadata": {},
   "outputs": [
    {
     "data": {
      "text/plain": [
       "device(type='cuda')"
      ]
     },
     "execution_count": 2,
     "metadata": {},
     "output_type": "execute_result"
    }
   ],
   "source": [
    "# 检查是否有可用的 GPU\n",
    "device = torch.device(\"cuda\" if torch.cuda.is_available() else \"cpu\")\n",
    "device"
   ]
  },
  {
   "cell_type": "code",
   "execution_count": 3,
   "id": "610cf08d-474d-495f-b1ee-c88bad404d90",
   "metadata": {},
   "outputs": [
    {
     "data": {
      "text/plain": [
       "Dataset ImageFolder\n",
       "    Number of datapoints: 22500\n",
       "    Root location: ../datasets/PetImages\\train\n",
       "    StandardTransform\n",
       "Transform: Compose(\n",
       "               RandomHorizontalFlip(p=0.5)\n",
       "               RandomRotation(degrees=[-15.0, 15.0], interpolation=nearest, expand=False, fill=0)\n",
       "               ColorJitter(brightness=(0.99, 1.01), contrast=(0.99, 1.01), saturation=(0.99, 1.01), hue=(-0.01, 0.01))\n",
       "               RandomResizedCrop(size=(150, 150), scale=(0.8, 1.0), ratio=(0.75, 1.3333), interpolation=bilinear, antialias=True)\n",
       "               ToTensor()\n",
       "               Normalize(mean=[0.485, 0.456, 0.406], std=[0.229, 0.224, 0.225])\n",
       "           )"
      ]
     },
     "execution_count": 3,
     "metadata": {},
     "output_type": "execute_result"
    }
   ],
   "source": [
    "# 定义数据增强和预处理的 transforms  数据集是彩色图片, 有三个channel\n",
    "\"\"\"\n",
    "数据增强\n",
    "水平翻转：模拟左右对称场景（如人脸、物体的翻转），增强数据多样性。\n",
    "旋转：小角度旋转模拟不同视角下的图像，提高模型的鲁棒性。\n",
    "颜色抖动：通过改变亮度、对比度、饱和度和色调，模拟光线条件的变化，提升模型在复杂光线下的适应性。\n",
    "随机裁剪：随机从原图中裁剪区域，这对定位鲁棒性较差的模型非常有帮助。\n",
    "张量化：将图像数据从像素值转换为适合模型处理的格式。\n",
    "\"\"\"\n",
    "transforms = transforms.Compose([\n",
    "    transforms.RandomHorizontalFlip(),  # 随机水平翻转，增强样本的多样性，概率为 50%\n",
    "    transforms.RandomRotation(15),  # 随机旋转图像，角度范围为 -15° 到 15°\n",
    "    transforms.ColorJitter(          # 随机调整图像的颜色属性：\n",
    "        brightness=0.01,             # 调整亮度，范围为 [0.8, 1.2]（1±0.2）\n",
    "        contrast=0.01,               # 调整对比度，范围为 [0.8, 1.2]\n",
    "        saturation=0.01,             # 调整饱和度，范围为 [0.8, 1.2]\n",
    "        hue=0.01                     # 调整色调，范围为 [-0.1, 0.1]\n",
    "    ),\n",
    "    transforms.RandomResizedCrop(150, scale=(0.8, 1.0)),  # 把图片的每一个channel随机裁剪成 150x150, 裁剪比例范围为 80% - 100%\n",
    "    transforms.ToTensor(),             # 将图像转换为张量，并将像素值归一化到 [0, 1]\n",
    "    transforms.Normalize(              # 对张量进行标准化处理, 提升模型训练的稳定性\n",
    "        mean=[0.485, 0.456, 0.406],    # 使用 ImageNet 数据集的均值\n",
    "        std=[0.229, 0.224, 0.225]      # 使用 ImageNet 数据集的标准差\n",
    "    ),\n",
    "])\n",
    "\n",
    "root_dir=r\"../datasets/PetImages\"\n",
    "\n",
    "\"\"\"\n",
    "datasets.ImageFolder 用于加载图像数据集, 适合用于有文件夹层级结构的分类数据集\n",
    "它会自动根据文件夹结构将数据与标签（类别编号）配对\n",
    "对于如下的文件夹结构：\n",
    "train/\n",
    "    cats/\n",
    "        cat1.jpg\n",
    "        cat2.jpg\n",
    "    dogs/\n",
    "        dog1.jpg\n",
    "        dog2.jpg\n",
    "        \n",
    "ImageFolder 处理之后的结果为：\n",
    "[\n",
    "    (image1_tensor, 0),  # 对应 cats 类别\n",
    "    (image2_tensor, 0),  # 对应 cats 类别\n",
    "    (image3_tensor, 1),  # 对应 dogs 类别\n",
    "    (image4_tensor, 1),  # 对应 dogs 类别\n",
    "]\n",
    "\"\"\"\n",
    "# 加载训练集数据，应用 transforms\n",
    "train_data = datasets.ImageFolder(\n",
    "    os.path.join(root_dir, 'train'),  # 训练数据所在路径\n",
    "    transforms                    # 数据增强和预处理\n",
    ")\n",
    "\n",
    "# 加载测试集数据，应用 transforms\n",
    "test_data = datasets.ImageFolder(\n",
    "    os.path.join(root_dir, 'test'),  # 测试数据所在路径\n",
    "    transforms                    # 数据增强和预处理\n",
    ")\n",
    "\n",
    "train_data"
   ]
  },
  {
   "cell_type": "code",
   "execution_count": 4,
   "id": "9641338e-1811-466f-8670-748d1de65899",
   "metadata": {},
   "outputs": [
    {
     "name": "stdout",
     "output_type": "stream",
     "text": [
      "训练集类别数量: 2\n",
      "训练集类别名称: ['Cat', 'Dog']\n",
      "训练集数据数量: 22500\n",
      "训练集第一个样本: torch.Size([3, 150, 150]), 0\n",
      "测试集类别数量: 2\n",
      "测试集类别名称: ['Cat', 'Dog']\n",
      "测试集数据数量: 2500\n",
      "测试集第一个样本: torch.Size([3, 150, 150]), 0\n"
     ]
    }
   ],
   "source": [
    "# 查看数据集的内容\n",
    "print(f\"训练集类别数量: {len(train_data.classes)}\")\n",
    "print(f\"训练集类别名称: {train_data.classes}\")\n",
    "print(f\"训练集数据数量: {len(train_data)}\")\n",
    "print(f\"训练集第一个样本: {train_data[0][0].shape}, {train_data[0][1]}\")  # 打印第一个样本 (image, label)\n",
    "\n",
    "print(f\"测试集类别数量: {len(test_data.classes)}\")\n",
    "print(f\"测试集类别名称: {test_data.classes}\")\n",
    "print(f\"测试集数据数量: {len(test_data)}\")\n",
    "print(f\"测试集第一个样本: {test_data[0][0].shape}, {test_data[0][1]}\")  # 打印第一个样本 (image, label)\n",
    "# 图片形状torch.Size([3, 150, 150] : 150, 150是图片大小， 3代表三个通道(r, g, b)"
   ]
  },
  {
   "cell_type": "code",
   "execution_count": 5,
   "id": "96624a8e-658b-4bae-b8f5-c5794f9b1666",
   "metadata": {},
   "outputs": [
    {
     "data": {
      "image/png": "[encoded data removed]",
      "text/plain": [
       "<Figure size 1000x500 with 2 Axes>"
      ]
     },
     "metadata": {},
     "output_type": "display_data"
    }
   ],
   "source": [
    "# 查看数据集图片\n",
    "\n",
    "# 定义函数将 Tensor 转为 numpy 格式的图片\n",
    "def imshow(img, title):\n",
    "    img = img.numpy().transpose((1, 2, 0))  # 将通道维度移到最后 (H, W, C)\n",
    "    img = np.clip(img, 0, 1)  # 确保像素值在 [0, 1] 范围\n",
    "    plt.imshow(img)\n",
    "    plt.title(title)\n",
    "    plt.axis('off')\n",
    "\n",
    "# 获取两张不同类别的图像\n",
    "def get_two_classes_samples(dataset):\n",
    "    \"\"\"\n",
    "    高效获取数据集中每个类别的样本。\n",
    "    \"\"\"\n",
    "    class_indices = {label: None for label in range(len(dataset.classes))}  # 存储每个类别的索引\n",
    "    samples = {}  # 存储样本\n",
    "    half_len = len(dataset) // 2  # 数据集一半的长度\n",
    "    \n",
    "    # 遍历前后索引寻找每个类别的第一个样本\n",
    "    for idx in range(half_len):\n",
    "        # 从前往后找\n",
    "        _, label = dataset[idx]\n",
    "        if class_indices[label] is None:\n",
    "            class_indices[label] = idx  # 记录该类别的第一个样本索引\n",
    "            samples[label] = dataset[idx][0]  # 存储对应的图片数据\n",
    "        \n",
    "        # 从后往前找\n",
    "        _, label = dataset[len(dataset) - 1 - idx]\n",
    "        if class_indices[label] is None:\n",
    "            class_indices[label] = len(dataset) - 1 - idx\n",
    "            samples[label] = dataset[len(dataset) - 1 - idx][0]\n",
    "        \n",
    "        # 如果已找到所有类别，停止搜索\n",
    "        if len(samples) == len(dataset.classes):\n",
    "            break\n",
    "\n",
    "    return samples\n",
    "\n",
    "\n",
    "# 从训练集获取两张不同类别的图像\n",
    "class_samples = get_two_classes_samples(train_data)\n",
    "\n",
    "# 可视化\n",
    "plt.figure(figsize=(10, 5))\n",
    "for i, (label, img) in enumerate(class_samples.items()):\n",
    "    plt.subplot(1, 2, i+1)\n",
    "    imshow(img, f\"Class: {train_data.classes[label]}\")\n",
    "plt.tight_layout()\n",
    "plt.show()"
   ]
  },
  {
   "cell_type": "code",
   "execution_count": 6,
   "id": "486d81df-7a88-426d-a2a9-a3d6dfe19088",
   "metadata": {},
   "outputs": [],
   "source": [
    "batch_size=32\n",
    "\n",
    "train_loader = DataLoader(train_data, batch_size=batch_size, shuffle=True, pin_memory=True)\n",
    "test_loader = DataLoader(test_data, batch_size=batch_size)"
   ]
  },
  {
   "cell_type": "markdown",
   "id": "21b88781-33ad-41d8-b5cc-0fbda715772c",
   "metadata": {},
   "source": [
    "### 模型构建\n",
    "\n",
    "`nn.Conv2d(in_channels, out_channels, kernel_size, stride, padding)`\n",
    "\n",
    "卷积层输出计算公式：\n",
    "$N = (W - F + 2P) / S + 1$\n",
    "其中，\n",
    "- N：输出大小\n",
    "- W：输入大小\n",
    "- F：卷积核大小\n",
    "- P：填充值大小\n",
    "- S：步长大小"
   ]
  },
  {
   "cell_type": "code",
   "execution_count": 7,
   "id": "e2ef1a4f-d87f-4e86-95ce-76add5cc4aab",
   "metadata": {},
   "outputs": [],
   "source": [
    "class Net(torch.nn.Module):\n",
    "    def __init__(self):\n",
    "        # 输入形状: (batch, 3, 150, 150)\n",
    "        super(Net, self).__init__()\n",
    "\n",
    "        self.conv1 = torch.nn.Sequential(\n",
    "            torch.nn.Conv2d(3, 32, kernel_size=3, stride=1, padding=1),  # 输出: (batch, 32, 150, 150)\n",
    "            torch.nn.BatchNorm2d(32),  # 增加 Batch Normalization 提高训练稳定性\n",
    "            torch.nn.ReLU(),\n",
    "            torch.nn.MaxPool2d(kernel_size=2, stride=2)  # 输出: (batch, 32, 75, 75)\n",
    "        )\n",
    "\n",
    "        self.conv2 = torch.nn.Sequential(\n",
    "            torch.nn.Conv2d(32, 64, kernel_size=3, stride=1, padding=1),  # 输出: (batch, 64, 75, 75)\n",
    "            torch.nn.BatchNorm2d(64),\n",
    "            torch.nn.ReLU(),\n",
    "            torch.nn.MaxPool2d(kernel_size=2, stride=2)  # 输出: (batch, 64, 37, 37)\n",
    "        )\n",
    "\n",
    "        self.conv3 = torch.nn.Sequential(\n",
    "            torch.nn.Conv2d(64, 128, kernel_size=3, stride=1, padding=1),  # 输出: (batch, 128, 37, 37)\n",
    "            torch.nn.BatchNorm2d(128),\n",
    "            torch.nn.ReLU(),\n",
    "            torch.nn.MaxPool2d(kernel_size=2, stride=2)  # 输出: (batch, 128, 18, 18)\n",
    "        )\n",
    "        self.conv4 = torch.nn.Sequential(\n",
    "            torch.nn.Conv2d(128, 256, kernel_size=3, stride=1, padding=1),  # 输出: (batch, 256, 18, 18)\n",
    "            torch.nn.BatchNorm2d(256),\n",
    "            torch.nn.ReLU(),\n",
    "            torch.nn.MaxPool2d(kernel_size=2, stride=2)  # 输出: (batch, 256, 9, 9)\n",
    "        )\n",
    "\n",
    "\n",
    "        self.fc = torch.nn.Sequential(\n",
    "            torch.nn.Linear(256 * 9 * 9, 512),  # 全连接层, 输入: 128*18*18\n",
    "            torch.nn.ReLU(),\n",
    "            torch.nn.Dropout(0.5),  # 添加 Dropout 防止过拟合\n",
    "            torch.nn.Linear(512, 2)  # 最后输出 2 个类别\n",
    "        )\n",
    "\n",
    "    def forward(self, x):\n",
    "        batch_size = x.size(0)\n",
    "        x = self.conv1(x)  # 第一卷积模块\n",
    "        x = self.conv2(x)  # 第二卷积模块\n",
    "        x = self.conv3(x)  # 第三卷积模块\n",
    "        x = self.conv4(x)  # 第四卷积模块\n",
    "        x = x.view(batch_size, -1)  # 展平为全连接层输入\n",
    "        x = self.fc(x)  # 全连接层\n",
    "        return x  # 输出形状: (batch, 2)\n"
   ]
  },
  {
   "cell_type": "code",
   "execution_count": 8,
   "id": "17534800-b9ee-4066-a956-c465117c1f08",
   "metadata": {},
   "outputs": [],
   "source": [
    "model=Net().to(device)\n",
    "\n",
    "lr=1e-3\n",
    "\n",
    "# 定义损失函数和优化器\n",
    "loss_fn = torch.nn.CrossEntropyLoss()  # 适用于多（二）分类问题, 适合模型输出为 (batch_size, class_num)\n",
    "\"\"\"\n",
    "权重衰减 (L2正则化)\n",
    "在优化器中加入权重衰减，可以防止过拟合\n",
    "大的权重值会导致模型对训练数据的拟合过度，从而丧失对新数据的泛化能力。\n",
    "L2 正则化通过惩罚大权重值，迫使模型学到更平滑的特征分布，而不是依赖特定特征的绝对大小。\n",
    "\"\"\"\n",
    "optimizer = torch.optim.Adam(model.parameters(), lr=1e-4, weight_decay=1e-4) # 使用 Adam 优化器\n",
    "# optimizer = torch.optim.Adam(model.parameters(), lr=1e-4)\n",
    "\"\"\"\n",
    "学习率衰减策略\n",
    "StepLR: 每隔一定的步数衰减学习率\n",
    "它会在每 step_size 个 epoch 后将学习率乘以一个因子 gamma\n",
    "这种方法可以在模型训练进入瓶颈时，减少学习率，从而让优化器更精细地调整权重，避免震荡或错过局部最优\n",
    "\"\"\"\n",
    "scheduler = torch.optim.lr_scheduler.StepLR(optimizer, step_size=10, gamma=0.1)"
   ]
  },
  {
   "cell_type": "code",
   "execution_count": 9,
   "id": "c176546a-0150-4278-a70f-37e1e6d92a22",
   "metadata": {},
   "outputs": [
    {
     "name": "stdout",
     "output_type": "stream",
     "text": [
      "Net(\n",
      "  (conv1): Sequential(\n",
      "    (0): Conv2d(3, 32, kernel_size=(3, 3), stride=(1, 1), padding=(1, 1))\n",
      "    (1): BatchNorm2d(32, eps=1e-05, momentum=0.1, affine=True, track_running_stats=True)\n",
      "    (2): ReLU()\n",
      "    (3): MaxPool2d(kernel_size=2, stride=2, padding=0, dilation=1, ceil_mode=False)\n",
      "  )\n",
      "  (conv2): Sequential(\n",
      "    (0): Conv2d(32, 64, kernel_size=(3, 3), stride=(1, 1), padding=(1, 1))\n",
      "    (1): BatchNorm2d(64, eps=1e-05, momentum=0.1, affine=True, track_running_stats=True)\n",
      "    (2): ReLU()\n",
      "    (3): MaxPool2d(kernel_size=2, stride=2, padding=0, dilation=1, ceil_mode=False)\n",
      "  )\n",
      "  (conv3): Sequential(\n",
      "    (0): Conv2d(64, 128, kernel_size=(3, 3), stride=(1, 1), padding=(1, 1))\n",
      "    (1): BatchNorm2d(128, eps=1e-05, momentum=0.1, affine=True, track_running_stats=True)\n",
      "    (2): ReLU()\n",
      "    (3): MaxPool2d(kernel_size=2, stride=2, padding=0, dilation=1, ceil_mode=False)\n",
      "  )\n",
      "  (conv4): Sequential(\n",
      "    (0): Conv2d(128, 256, kernel_size=(3, 3), stride=(1, 1), padding=(1, 1))\n",
      "    (1): BatchNorm2d(256, eps=1e-05, momentum=0.1, affine=True, track_running_stats=True)\n",
      "    (2): ReLU()\n",
      "    (3): MaxPool2d(kernel_size=2, stride=2, padding=0, dilation=1, ceil_mode=False)\n",
      "  )\n",
      "  (fc): Sequential(\n",
      "    (0): Linear(in_features=20736, out_features=512, bias=True)\n",
      "    (1): ReLU()\n",
      "    (2): Dropout(p=0.5, inplace=False)\n",
      "    (3): Linear(in_features=512, out_features=2, bias=True)\n",
      "  )\n",
      ")\n",
      "模型总参数数量: 11,007,746\n",
      "模型可训练参数数量: 11,007,746\n"
     ]
    }
   ],
   "source": [
    "# 查看模型结构\n",
    "# 打印模型参数总数和可训练参数总数\n",
    "def count_parameters(model):\n",
    "    total_params = sum(p.numel() for p in model.parameters())  # 所有参数数量\n",
    "    trainable_params = sum(p.numel() for p in model.parameters() if p.requires_grad)  # 需要训练的参数数量\n",
    "    print(f\"模型总参数数量: {total_params:,}\")\n",
    "    print(f\"模型可训练参数数量: {trainable_params:,}\")\n",
    "\n",
    "print(model)\n",
    "count_parameters(model)"
   ]
  },
  {
   "cell_type": "code",
   "execution_count": 10,
   "id": "e5850833-7228-4f04-ae20-a289b7a8c9d6",
   "metadata": {},
   "outputs": [],
   "source": [
    "# 训练函数\n",
    "def train(dataloader, model, loss_fn, optimizer):\n",
    "    model.train()  # 设置模型为训练模式\n",
    "    running_loss = 0.0\n",
    "    correct = 0\n",
    "    total = 0\n",
    "\n",
    "    # 使用 tqdm 包裹数据加载器，显示进度条 (因为训练过程会比较慢)\n",
    "    progress_bar = tqdm(dataloader, desc=\"Training\", leave=False)\n",
    "    for images, labels in progress_bar:\n",
    "        # 将数据移动到设备\n",
    "        images, labels = images.to(device), labels.to(device)\n",
    "\n",
    "        # 前向传播\n",
    "        outputs = model(images)\n",
    "        loss = loss_fn(outputs, labels)\n",
    "\n",
    "        # 反向传播和优化\n",
    "        optimizer.zero_grad()\n",
    "        loss.backward()\n",
    "        optimizer.step()  # 更新模型参数\n",
    "\n",
    "        # 统计指标\n",
    "        running_loss += loss.item()\n",
    "        _, predicted = torch.max(outputs, 1)\n",
    "        total += labels.size(0)\n",
    "        correct += (predicted == labels).sum().item()\n",
    "\n",
    "        # 更新进度条描述\n",
    "        progress_bar.set_postfix(loss=loss.item())\n",
    "        \n",
    "    scheduler.step()  # 更新学习率\n",
    "\n",
    "    accuracy = 100 * correct / total\n",
    "    avg_loss = running_loss / len(dataloader)\n",
    "    return avg_loss, accuracy"
   ]
  },
  {
   "cell_type": "code",
   "execution_count": 11,
   "id": "94df5294-4bc0-43d9-8fcc-c723e35e8231",
   "metadata": {},
   "outputs": [],
   "source": [
    "# 测试函数\n",
    "def evaluate(dataloader, model, loss_fn):\n",
    "    model.eval()  # 设置模型为评估模式\n",
    "    running_loss = 0.0\n",
    "    correct = 0\n",
    "    total = 0\n",
    "\n",
    "    with torch.no_grad():  # 关闭梯度计算\n",
    "        progress_bar = tqdm(dataloader, desc=\"Evaluating\", leave=False)\n",
    "        for images, labels in dataloader:\n",
    "            # 将数据移动到设备\n",
    "            images, labels = images.to(device), labels.to(device)\n",
    "\n",
    "            # 前向传播\n",
    "            outputs = model(images)\n",
    "            loss = loss_fn(outputs, labels)\n",
    "\n",
    "            # 统计指标\n",
    "            running_loss += loss.item()\n",
    "            _, predicted = torch.max(outputs, 1)\n",
    "            total += labels.size(0)\n",
    "            correct += (predicted == labels).sum().item()\n",
    "            # 更新进度条描述\n",
    "            progress_bar.set_postfix(loss=loss.item())\n",
    "\n",
    "    accuracy = 100 * correct / total\n",
    "    avg_loss = running_loss / len(dataloader)\n",
    "    return avg_loss, accuracy"
   ]
  },
  {
   "cell_type": "markdown",
   "id": "776bace7-71c5-4b94-b098-c46f031de9ca",
   "metadata": {},
   "source": [
    "### 模型训练"
   ]
  },
  {
   "cell_type": "code",
   "execution_count": 12,
   "id": "43f96cab-f89b-4391-987d-54a520ed83a3",
   "metadata": {},
   "outputs": [
    {
     "name": "stdout",
     "output_type": "stream",
     "text": [
      "Epoch 1/20\n"
     ]
    },
    {
     "name": "stderr",
     "output_type": "stream",
     "text": [
      "Training:  99%|█████████████████████████████████████████████████████████▏| 694/704 [13:44<00:11,  1.12s/it, loss=0.643]D:\\develop\\anaconda\\envs\\pytorch\\lib\\site-packages\\PIL\\TiffImagePlugin.py:900: UserWarning: Truncated File Read\n",
      "  warnings.warn(str(msg))\n",
      "                                                                                                                       \r"
     ]
    },
    {
     "name": "stdout",
     "output_type": "stream",
     "text": [
      "Epoch: 1, Train_acc:71.7%, Train_loss:0.556, Test_acc:80.4%，Test_loss:0.439\n",
      "Epoch 2/20\n"
     ]
    },
    {
     "name": "stderr",
     "output_type": "stream",
     "text": [
      "                                                                                                                       \r"
     ]
    },
    {
     "name": "stdout",
     "output_type": "stream",
     "text": [
      "Epoch: 2, Train_acc:80.2%, Train_loss:0.432, Test_acc:79.5%，Test_loss:0.433\n",
      "Epoch 3/20\n"
     ]
    },
    {
     "name": "stderr",
     "output_type": "stream",
     "text": [
      "                                                                                                                       \r"
     ]
    },
    {
     "name": "stdout",
     "output_type": "stream",
     "text": [
      "Epoch: 3, Train_acc:83.0%, Train_loss:0.381, Test_acc:83.0%，Test_loss:0.371\n",
      "Epoch 4/20\n"
     ]
    },
    {
     "name": "stderr",
     "output_type": "stream",
     "text": [
      "                                                                                                                       \r"
     ]
    },
    {
     "name": "stdout",
     "output_type": "stream",
     "text": [
      "Epoch: 4, Train_acc:84.7%, Train_loss:0.348, Test_acc:83.8%，Test_loss:0.365\n",
      "Epoch 5/20\n"
     ]
    },
    {
     "name": "stderr",
     "output_type": "stream",
     "text": [
      "                                                                                                                       \r"
     ]
    },
    {
     "name": "stdout",
     "output_type": "stream",
     "text": [
      "Epoch: 5, Train_acc:86.0%, Train_loss:0.322, Test_acc:86.1%，Test_loss:0.318\n",
      "Epoch 6/20\n"
     ]
    },
    {
     "name": "stderr",
     "output_type": "stream",
     "text": [
      "                                                                                                                       \r"
     ]
    },
    {
     "name": "stdout",
     "output_type": "stream",
     "text": [
      "Epoch: 6, Train_acc:87.1%, Train_loss:0.303, Test_acc:85.6%，Test_loss:0.337\n",
      "Epoch 7/20\n"
     ]
    },
    {
     "name": "stderr",
     "output_type": "stream",
     "text": [
      "                                                                                                                       \r"
     ]
    },
    {
     "name": "stdout",
     "output_type": "stream",
     "text": [
      "Epoch: 7, Train_acc:88.0%, Train_loss:0.283, Test_acc:87.9%，Test_loss:0.287\n",
      "Epoch 8/20\n"
     ]
    },
    {
     "name": "stderr",
     "output_type": "stream",
     "text": [
      "                                                                                                                       \r"
     ]
    },
    {
     "name": "stdout",
     "output_type": "stream",
     "text": [
      "Epoch: 8, Train_acc:88.7%, Train_loss:0.267, Test_acc:87.4%，Test_loss:0.291\n",
      "Epoch 9/20\n"
     ]
    },
    {
     "name": "stderr",
     "output_type": "stream",
     "text": [
      "                                                                                                                       \r"
     ]
    },
    {
     "name": "stdout",
     "output_type": "stream",
     "text": [
      "Epoch: 9, Train_acc:89.6%, Train_loss:0.252, Test_acc:90.0%，Test_loss:0.246\n",
      "Epoch 10/20\n"
     ]
    },
    {
     "name": "stderr",
     "output_type": "stream",
     "text": [
      "                                                                                                                       \r"
     ]
    },
    {
     "name": "stdout",
     "output_type": "stream",
     "text": [
      "Epoch:10, Train_acc:90.1%, Train_loss:0.244, Test_acc:87.2%，Test_loss:0.308\n",
      "Epoch 11/20\n"
     ]
    },
    {
     "name": "stderr",
     "output_type": "stream",
     "text": [
      "                                                                                                                       \r"
     ]
    },
    {
     "name": "stdout",
     "output_type": "stream",
     "text": [
      "Epoch:11, Train_acc:92.0%, Train_loss:0.197, Test_acc:91.9%，Test_loss:0.200\n",
      "Epoch 12/20\n"
     ]
    },
    {
     "name": "stderr",
     "output_type": "stream",
     "text": [
      "                                                                                                                       \r"
     ]
    },
    {
     "name": "stdout",
     "output_type": "stream",
     "text": [
      "Epoch:12, Train_acc:92.6%, Train_loss:0.186, Test_acc:91.5%，Test_loss:0.208\n",
      "Epoch 13/20\n"
     ]
    },
    {
     "name": "stderr",
     "output_type": "stream",
     "text": [
      "                                                                                                                       \r"
     ]
    },
    {
     "name": "stdout",
     "output_type": "stream",
     "text": [
      "Epoch:13, Train_acc:92.8%, Train_loss:0.181, Test_acc:92.4%，Test_loss:0.195\n",
      "Epoch 14/20\n"
     ]
    },
    {
     "name": "stderr",
     "output_type": "stream",
     "text": [
      "                                                                                                                       \r"
     ]
    },
    {
     "name": "stdout",
     "output_type": "stream",
     "text": [
      "Epoch:14, Train_acc:92.9%, Train_loss:0.181, Test_acc:91.2%，Test_loss:0.214\n",
      "Epoch 15/20\n"
     ]
    },
    {
     "name": "stderr",
     "output_type": "stream",
     "text": [
      "                                                                                                                       \r"
     ]
    },
    {
     "name": "stdout",
     "output_type": "stream",
     "text": [
      "Epoch:15, Train_acc:93.0%, Train_loss:0.173, Test_acc:92.5%，Test_loss:0.189\n",
      "Epoch 16/20\n"
     ]
    },
    {
     "name": "stderr",
     "output_type": "stream",
     "text": [
      "                                                                                                                       \r"
     ]
    },
    {
     "name": "stdout",
     "output_type": "stream",
     "text": [
      "Epoch:16, Train_acc:93.2%, Train_loss:0.173, Test_acc:92.0%，Test_loss:0.190\n",
      "Epoch 17/20\n"
     ]
    },
    {
     "name": "stderr",
     "output_type": "stream",
     "text": [
      "                                                                                                                       \r"
     ]
    },
    {
     "name": "stdout",
     "output_type": "stream",
     "text": [
      "Epoch:17, Train_acc:93.1%, Train_loss:0.170, Test_acc:92.3%，Test_loss:0.187\n",
      "Epoch 18/20\n"
     ]
    },
    {
     "name": "stderr",
     "output_type": "stream",
     "text": [
      "                                                                                                                       \r"
     ]
    },
    {
     "name": "stdout",
     "output_type": "stream",
     "text": [
      "Epoch:18, Train_acc:93.4%, Train_loss:0.166, Test_acc:92.8%，Test_loss:0.186\n",
      "Epoch 19/20\n"
     ]
    },
    {
     "name": "stderr",
     "output_type": "stream",
     "text": [
      "                                                                                                                       \r"
     ]
    },
    {
     "name": "stdout",
     "output_type": "stream",
     "text": [
      "Epoch:19, Train_acc:93.5%, Train_loss:0.166, Test_acc:92.4%，Test_loss:0.187\n",
      "Epoch 20/20\n"
     ]
    },
    {
     "name": "stderr",
     "output_type": "stream",
     "text": [
      "                                                                                                                       "
     ]
    },
    {
     "name": "stdout",
     "output_type": "stream",
     "text": [
      "Epoch:20, Train_acc:93.6%, Train_loss:0.166, Test_acc:92.5%，Test_loss:0.185\n",
      "训练完成!\n"
     ]
    },
    {
     "name": "stderr",
     "output_type": "stream",
     "text": [
      "\r"
     ]
    }
   ],
   "source": [
    "# 开始训练\n",
    "\"\"\"\n",
    "如果不想训练太久可以适当减小epoch\n",
    "epoch=10的时候训练正确率就达到了77.0%, epoch=30时才为81.0% \n",
    "再增加epoch训练效果增加不明显, 但是结果明显还未收敛。\n",
    "为了更好的效果作者就增大了epoch\n",
    "\"\"\"\n",
    "num_epochs = 20\n",
    "\n",
    "train_loss = []\n",
    "train_acc  = []\n",
    "test_loss  = []\n",
    "test_acc   = []\n",
    "\n",
    "for epoch in range(num_epochs):\n",
    "    print(f\"Epoch {epoch+1}/{num_epochs}\")\n",
    "    \n",
    "    epoch_train_loss, epoch_train_acc = train(train_loader, model, loss_fn, optimizer)\n",
    "\n",
    "    # 在测试集上评估\n",
    "    epoch_test_loss, epoch_test_acc = evaluate(test_loader, model, loss_fn)\n",
    "\n",
    "    train_acc.append(epoch_train_acc)\n",
    "    train_loss.append(epoch_train_loss)\n",
    "    test_acc.append(epoch_test_acc)\n",
    "    test_loss.append(epoch_test_loss)\n",
    "    # 打印训练和测试结果\n",
    "    template = ('Epoch:{:2d}, Train_acc:{:.1f}%, Train_loss:{:.3f}, Test_acc:{:.1f}%，Test_loss:{:.3f}')\n",
    "    print(template.format(epoch+1, epoch_train_acc, epoch_train_loss, epoch_test_acc, epoch_test_loss))\n",
    "\n",
    "print(\"训练完成!\")"
   ]
  },
  {
   "cell_type": "markdown",
   "id": "5565e316-1967-41a0-810c-aa17f2809ed9",
   "metadata": {},
   "source": [
    "### 结果可视化"
   ]
  },
  {
   "cell_type": "code",
   "execution_count": 13,
   "id": "ca6ed2f2-317a-4118-8707-16ecd7b2f5f5",
   "metadata": {},
   "outputs": [
    {
     "data": {
      "image/png": "[encoded data removed]",
      "text/plain": [
       "<Figure size 1200x300 with 2 Axes>"
      ]
     },
     "metadata": {},
     "output_type": "display_data"
    }
   ],
   "source": [
    "epochs_range = range(num_epochs)\n",
    "\n",
    "plt.figure(figsize=(12, 3))\n",
    "plt.subplot(1, 2, 1)\n",
    "\n",
    "plt.plot(epochs_range, train_acc, label='Training Accuracy')\n",
    "plt.plot(epochs_range, test_acc, label='Test Accuracy')\n",
    "plt.legend(loc='lower right')\n",
    "plt.title('Training and Validation Accuracy')\n",
    "\n",
    "plt.subplot(1, 2, 2)\n",
    "plt.plot(epochs_range, train_loss, label='Training Loss')\n",
    "plt.plot(epochs_range, test_loss, label='Test Loss')\n",
    "plt.legend(loc='upper right')\n",
    "plt.title('Training and Validation Loss')\n",
    "plt.show()"
   ]
  },
  {
   "cell_type": "markdown",
   "id": "c34c64fa-9e5d-4bd2-a4ce-59630b82f5e7",
   "metadata": {},
   "source": [
    "### 模型保存"
   ]
  },
  {
   "cell_type": "code",
   "execution_count": 14,
   "id": "69db0aa7-3203-4d76-a84e-2a36844867d2",
   "metadata": {},
   "outputs": [],
   "source": [
    "# 指定保存路径\n",
    "save_dir = '../models/2_Cat_Dog_Image_Classification'\n",
    "\n",
    "# 确保目录存在，如果不存在则创建\n",
    "import os\n",
    "if not os.path.exists(save_dir):\n",
    "    os.makedirs(save_dir)\n",
    "\n",
    "# 保存模型\n",
    "torch.save(model.state_dict(), os.path.join(save_dir, 'model_weights.pth'))\n",
    "\n",
    "# # 加载模型参数\n",
    "# model.load(torch.load(os.path.join(save_dir, 'model_weights.pth')))"
   ]
  },
  {
   "cell_type": "code",
   "execution_count": null,
   "id": "4f1bd51d-6ef7-4f6c-8552-e475b168e544",
   "metadata": {},
   "outputs": [],
   "source": []
  }
 ],
 "metadata": {
  "kernelspec": {
   "display_name": "Python 3 (ipykernel)",
   "language": "python",
   "name": "python3"
  },
  "language_info": {
   "codemirror_mode": {
    "name": "ipython",
    "version": 3
   },
   "file_extension": ".py",
   "mimetype": "text/x-python",
   "name": "python",
   "nbconvert_exporter": "python",
   "pygments_lexer": "ipython3",
   "version": "3.8.20"
  }
 },
 "nbformat": 4,
 "nbformat_minor": 5
}
