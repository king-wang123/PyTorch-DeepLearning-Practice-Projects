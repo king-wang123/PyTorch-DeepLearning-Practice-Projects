{
 "cells": [
  {
   "cell_type": "code",
   "execution_count": 1,
   "id": "d1822a7d-5698-4f4d-92ec-7f712fac9d49",
   "metadata": {},
   "outputs": [],
   "source": [
    "from sklearn.model_selection import train_test_split\n",
    "import torch\n",
    "import pandas as pd"
   ]
  },
  {
   "cell_type": "code",
   "execution_count": 2,
   "id": "6831f6f9-c45e-4e48-82e9-e8f9b02d207f",
   "metadata": {},
   "outputs": [
    {
     "data": {
      "text/plain": [
       "device(type='cuda')"
      ]
     },
     "execution_count": 2,
     "metadata": {},
     "output_type": "execute_result"
    }
   ],
   "source": [
    "# 检查是否有可用的 GPU\n",
    "device = torch.device(\"cuda\" if torch.cuda.is_available() else \"cpu\")\n",
    "device"
   ]
  },
  {
   "cell_type": "markdown",
   "id": "c80ff877-7d82-463d-b0f5-96a346ef5363",
   "metadata": {},
   "source": [
    "## 构造数据集"
   ]
  },
  {
   "cell_type": "code",
   "execution_count": 3,
   "id": "1816afb0-2565-4fbd-917d-54c4b391fc9e",
   "metadata": {},
   "outputs": [
    {
     "name": "stdout",
     "output_type": "stream",
     "text": [
      "数据数量333248\n",
      "                                                  content  stars  label\n",
      "67672   杰森斯坦森的片儿看起来都比较过瘾，剧情其次哈哈！！剪辑比较失败好多交代不明白或者草草略过，但...      4      1\n",
      "14223                                       小时候看的~当时惊为天人~      4      1\n",
      "209125  谈及尺八与长城间相似的温柔和孤独，小凑昭尚长城之上于已故友人间的共鸣，没有苦涩，更像宽慰，哀...      5      1\n",
      "63065                                           火山爆发，极限逃生      4      1\n",
      "140220  3D cinema class screening. 2D转3D好像没有什么必要，不过结尾的...      4      1\n"
     ]
    }
   ],
   "source": [
    "# 读取数据集\n",
    "data_path = '../datasets/chinese_movie_reviews/chinese_movie_reviews_datasets.jsonl'\n",
    "df = pd.read_json(data_path, orient='records', lines=True)\n",
    "\n",
    "# star > 3标记为 1，star < 3 标记为0。去除star==3的数据，去除star避免中性评论干扰模型\n",
    "df['label'] = df['stars'].apply(lambda x: 1 if x > 3 else (0 if x < 3 else None))\n",
    "df = df.dropna(subset=['label'])\n",
    "df['label'] = df['label'].astype(int)  # 转换为整数类型\n",
    "\n",
    "print(f'数据数量{len(df)}')\n",
    "print(df.sample(5))"
   ]
  },
  {
   "cell_type": "code",
   "execution_count": 4,
   "id": "6da13e00-6a47-453a-8faf-fd551b5c8ac4",
   "metadata": {},
   "outputs": [
    {
     "name": "stdout",
     "output_type": "stream",
     "text": [
      "最大文本长度：1953\n",
      "平均文本长度：62.20\n"
     ]
    },
    {
     "data": {
      "text/html": [
       "<div>\n",
       "<style scoped>\n",
       "    .dataframe tbody tr th:only-of-type {\n",
       "        vertical-align: middle;\n",
       "    }\n",
       "\n",
       "    .dataframe tbody tr th {\n",
       "        vertical-align: top;\n",
       "    }\n",
       "\n",
       "    .dataframe thead th {\n",
       "        text-align: right;\n",
       "    }\n",
       "</style>\n",
       "<table border=\"1\" class=\"dataframe\">\n",
       "  <thead>\n",
       "    <tr style=\"text-align: right;\">\n",
       "      <th></th>\n",
       "      <th>content</th>\n",
       "      <th>stars</th>\n",
       "      <th>label</th>\n",
       "    </tr>\n",
       "  </thead>\n",
       "  <tbody>\n",
       "    <tr>\n",
       "      <th>175591</th>\n",
       "      <td>这套光盘至今还在~</td>\n",
       "      <td>5</td>\n",
       "      <td>1</td>\n",
       "    </tr>\n",
       "    <tr>\n",
       "      <th>347259</th>\n",
       "      <td>看到最后的时候笑了。就这？非常嫌疑犯？</td>\n",
       "      <td>2</td>\n",
       "      <td>0</td>\n",
       "    </tr>\n",
       "    <tr>\n",
       "      <th>246612</th>\n",
       "      <td>冲着男主的那张帅脸亲上去！</td>\n",
       "      <td>4</td>\n",
       "      <td>1</td>\n",
       "    </tr>\n",
       "    <tr>\n",
       "      <th>111445</th>\n",
       "      <td>非常好看的一部电影，很有武侠味道！！！真的怀念以前的古装剧</td>\n",
       "      <td>4</td>\n",
       "      <td>1</td>\n",
       "    </tr>\n",
       "    <tr>\n",
       "      <th>65906</th>\n",
       "      <td>Sofía Vergara~~~</td>\n",
       "      <td>4</td>\n",
       "      <td>1</td>\n",
       "    </tr>\n",
       "  </tbody>\n",
       "</table>\n",
       "</div>"
      ],
      "text/plain": [
       "                              content  stars  label\n",
       "175591                      这套光盘至今还在~      5      1\n",
       "347259            看到最后的时候笑了。就这？非常嫌疑犯？      2      0\n",
       "246612                  冲着男主的那张帅脸亲上去！      4      1\n",
       "111445  非常好看的一部电影，很有武侠味道！！！真的怀念以前的古装剧      4      1\n",
       "65906                Sofía Vergara~~~      4      1"
      ]
     },
     "execution_count": 4,
     "metadata": {},
     "output_type": "execute_result"
    }
   ],
   "source": [
    "# 计算每条文本的长度\n",
    "sentence_lengths = df[\"content\"].apply(lambda x: len(x))  # 计算每条文本的词数（已经分词）\n",
    "# 计算最大长度和平均长度\n",
    "max_length = sentence_lengths.max()\n",
    "avg_length = sentence_lengths.mean()\n",
    "print(f\"最大文本长度：{max_length}\")\n",
    "print(f\"平均文本长度：{avg_length:.2f}\")\n",
    "\n",
    "df.sample(5)"
   ]
  },
  {
   "cell_type": "code",
   "execution_count": 5,
   "id": "8e7597b4-8d89-4f34-9a74-fc4c6576b903",
   "metadata": {},
   "outputs": [
    {
     "name": "stdout",
     "output_type": "stream",
     "text": [
      "训练集大小: 299923\n",
      "测试集大小: 33325\n"
     ]
    }
   ],
   "source": [
    "# 划分训练集和测试集 (这里使用90/10划分)\n",
    "train_df, test_df = train_test_split(df, test_size=0.1, stratify=df['label'])\n",
    "\n",
    "print(f\"训练集大小: {len(train_df)}\")\n",
    "print(f\"测试集大小: {len(test_df)}\")"
   ]
  },
  {
   "cell_type": "code",
   "execution_count": 6,
   "id": "d798fe2c-4a7b-40c6-853e-659d2fcc8106",
   "metadata": {},
   "outputs": [],
   "source": [
    "from transformers import BertTokenizer, BertForSequenceClassification, AdamW, get_linear_schedule_with_warmup\n",
    "from torch.utils.data import Dataset, DataLoader\n",
    "import os\n",
    "\n",
    "# 定义分词器路径 这里使用 Bert 的分词器\n",
    "# 需提前下载好分词器文件\n",
    "tokenizer_path = '../models/3_Transformer_Sentiment_Classification/bert-base-chinese'\n",
    "tokenizer = BertTokenizer.from_pretrained(tokenizer_path)\n",
    "    \n",
    "max_len = 128\n",
    "\n",
    "# 创建自定义Dataset\n",
    "class MovieReviewDataset(Dataset):\n",
    "    def __init__(self, reviews, labels, tokenizer, max_len):\n",
    "        self.reviews = reviews\n",
    "        self.labels = labels\n",
    "        self.tokenizer = tokenizer\n",
    "        self.max_len = max_len\n",
    "\n",
    "    def __len__(self):\n",
    "        return len(self.reviews)\n",
    "\n",
    "    def __getitem__(self, idx):\n",
    "        review = str(self.reviews[idx])\n",
    "        label = self.labels[idx]\n",
    "\n",
    "        encoding = self.tokenizer.encode_plus(\n",
    "            review,\n",
    "            add_special_tokens=True, # 添加 [CLS]（用于分类）和 [SEP]（分隔符）\n",
    "            max_length=self.max_len,\n",
    "            return_token_type_ids=False,\n",
    "            padding='max_length', # 短序列填充到 max_len\n",
    "            truncation=True,      # 长序列截断到 max_len\n",
    "            return_attention_mask=True,\n",
    "            return_tensors='pt',  # 返回PyTorch张量\n",
    "        )\n",
    "\n",
    "        return {\n",
    "            # 'review_text': review,\n",
    "            'input_ids': encoding['input_ids'].flatten(),\n",
    "            'attention_mask': encoding['attention_mask'].flatten(),\n",
    "            'labels': torch.tensor(label, dtype=torch.long)\n",
    "        }\n",
    "\n",
    "train_dataset = MovieReviewDataset(train_df.content.to_numpy(), train_df.label.to_numpy(), tokenizer, max_len)\n",
    "test_dataset = MovieReviewDataset(test_df.content.to_numpy(), test_df.label.to_numpy(), tokenizer, max_len)\n",
    "\n",
    "train_loader = DataLoader(train_dataset, batch_size=32, shuffle=True)\n",
    "test_loader = DataLoader(test_dataset, batch_size=32)"
   ]
  },
  {
   "cell_type": "markdown",
   "id": "c0d58254-08f2-43fc-a87e-23b4943cfafb",
   "metadata": {},
   "source": [
    "## 定义模型"
   ]
  },
  {
   "cell_type": "code",
   "execution_count": 7,
   "id": "8559dadf-c087-4650-a68c-cee6efcfeef5",
   "metadata": {},
   "outputs": [],
   "source": [
    "import torch.nn as nn\n",
    "import math\n",
    "\n",
    "class TransformerClassifier(nn.Module):\n",
    "    def __init__(self, vocab_size, embed_dim, num_heads, num_encoder_layers, ff_dim, num_classes,\n",
    "                     max_len=512, dropout_rate=0.1):\n",
    "        \"\"\"\n",
    "        初始化 Transformer 分类器\n",
    "        \n",
    "        Args:\n",
    "            vocab_size (int): 词汇表大小（tokenizer.vocab_size）。\n",
    "            embed_dim (int): 词嵌入和 Transformer 的维度（d_model）。\n",
    "            num_heads (int): 多头注意力机制的头数，必须能整除 embed_dim。\n",
    "            num_encoder_layers (int): Transformer Encoder 的层数。\n",
    "            ff_dim (int): 前馈网络中间层的维度（通常为 embed_dim 的 2-4 倍）。\n",
    "            num_classes (int): 分类任务的类别数（2 表示正/负）。\n",
    "            max_len (int): 最大序列长度，用于位置嵌入。\n",
    "            dropout_rate (float): Dropout 比率，用于正则化。\n",
    "        \"\"\"\n",
    "        super().__init__()\n",
    "        self.embed_dim = embed_dim\n",
    "        # 词嵌入层，将 token ID 映射到 embed_dim 维向量\n",
    "        self.token_embedding = nn.Embedding(vocab_size, embed_dim)\n",
    "        # 可学习的位置嵌入，为每个位置生成 embed_dim 维向量\n",
    "        self.positional_embedding = nn.Embedding(max_len, embed_dim)\n",
    "\n",
    "        # 定义单个 Transformer Encoder 层\n",
    "        encoder_layer = nn.TransformerEncoderLayer(\n",
    "            d_model=embed_dim,              # 模型维度\n",
    "            nhead=num_heads,                # 注意力头数\n",
    "            dim_feedforward=ff_dim,         # 前馈网络中间层维度\n",
    "            dropout=dropout_rate,            # Dropout 比率\n",
    "            batch_first=True,               # 输入/输出形状为 (batch, seq, feature)，适配常见数据格式\n",
    "            activation='gelu'               # 使用 GELU 激活函数，相比 ReLU 更平滑，有助于梯度流动\n",
    "        )\n",
    "\n",
    "        # 堆叠多个 Transformer Encoder 层\n",
    "        self.transformer_encoder = nn.TransformerEncoder(\n",
    "            encoder_layer,\n",
    "            num_layers=num_encoder_layers,\n",
    "            norm=nn.LayerNorm(embed_dim)    # 显式添加 LayerNorm，规范化输出\n",
    "        )\n",
    "\n",
    "        self.dropout = nn.Dropout(dropout_rate)\n",
    "        \n",
    "        # 分类头：将 [CLS] token 的输出（embed_dim 维）映射到 num_classes 维\n",
    "        self.fc_out = nn.Linear(embed_dim, num_classes)\n",
    "\n",
    "        self.max_len = max_len # 存储最大序列长度，供位置编码使用\n",
    "\n",
    "        self._init_weights()\n",
    "\n",
    "    def _init_weights(self):\n",
    "        \"\"\"\n",
    "        初始化模型权重，使用 Xavier Uniform 初始化，适合 Transformer 模型。\n",
    "        避免初始权重过大或过小，加速收敛。\n",
    "        \"\"\"\n",
    "        for p in self.parameters():\n",
    "            if p.dim() > 1:  # 仅对二维以上参数（如线性层、嵌入层）应用\n",
    "                nn.init.xavier_uniform_(p)\n",
    "            # 对嵌入层可额外应用正态初始化\n",
    "            elif p.dim() == 2 and 'embedding' in p.name:\n",
    "                nn.init.normal_(p, mean=0.0, std=0.02)\n",
    "\n",
    "    def forward(self, input_ids, attention_mask):\n",
    "        \"\"\"\n",
    "        前向传播，处理输入序列并输出分类 logits。\n",
    "\n",
    "        Args:\n",
    "            input_ids (torch.Tensor): 形状 (batch_size, seq_len)，词的 ID。\n",
    "            attention_mask (torch.Tensor): 形状 (batch_size, seq_len)，1 表示有效 token，0 表示 padding。\n",
    "\n",
    "        Returns:\n",
    "            torch.Tensor: 形状 (batch_size, num_classes)，分类 logits。\n",
    "        \"\"\"\n",
    "        seq_len = input_ids.size(1)  # 获取序列长度\n",
    "\n",
    "        # 1. 词嵌入\n",
    "        token_embeds = self.token_embedding(input_ids)  # (batch_size, seq_len, embed_dim)\n",
    "        token_embeds = token_embeds * math.sqrt(self.embed_dim) # 缩放嵌入，稳定训练\n",
    "\n",
    "        # 2. 位置编码\n",
    "        # 生成位置索引：(batch_size, seq_len)，每个样本重复 0 到 seq_len-1\n",
    "        positions = torch.arange(0, seq_len, device=input_ids.device).unsqueeze(0).repeat(input_ids.size(0), 1)\n",
    "        position_embeds = self.positional_embedding(positions)  # (batch_size, seq_len, embed_dim)\n",
    "        \n",
    "        # 词嵌入与位置嵌入相加\n",
    "        x = token_embeds + position_embeds\n",
    "        x = self.dropout(x)  # 在嵌入后应用 Dropout，增强鲁棒性\n",
    "\n",
    "        # Transformer Encoder需要 src_key_padding_mask\n",
    "        # attention_mask: 1是token, 0是padding.\n",
    "        # src_key_padding_mask: True表示该位置是padding, 需要被mask掉.\n",
    "        src_key_padding_mask = (attention_mask == 0)  # (batch_size, seq_len)\n",
    "\n",
    "        # 3. Transformer Encoder\n",
    "        # 输入形状: (batch_size, seq_len, embed_dim)\n",
    "        encoder_output = self.transformer_encoder(x, src_key_padding_mask=src_key_padding_mask)\n",
    "        # encoder_output shape: (batch_size, seq_len, embed_dim)\n",
    "\n",
    "        # 4. 分类\n",
    "        # 通常使用第一个token ([CLS] token)的输出来进行分类\n",
    "        cls_output = encoder_output[:, 0, :]  # (batch_size, embed_dim)\n",
    "        # 或者，可以对所有token的输出进行平均池化或最大池化\n",
    "        # cls_output = encoder_output.mean(dim=1) # 平均池化\n",
    "\n",
    "        cls_output = self.dropout(cls_output)\n",
    "        logits = self.fc_out(cls_output)  # (batch_size, num_classes)\n",
    "\n",
    "        return logits\n",
    "\n",
    "# 定义模型超参数\n",
    "VOCAB_SIZE = tokenizer.vocab_size  # 从之前加载的 BERT 分词器获取\n",
    "EMBED_DIM = 256                   # 嵌入维度，较小以减少计算量（BERT 常用 768）\n",
    "NUM_HEADS = 8                     # 多头注意力头数，需满足 embed_dim % num_heads == 0\n",
    "NUM_ENCODER_LAYERS = 4            # Encoder 层数，平衡性能与计算成本\n",
    "FF_DIM = 512                      # 前馈网络中间层维度，通常为 embed_dim 的 2-4 倍\n",
    "NUM_CLASSES = 2                   # 分类任务的类别数（正/负情感）\n",
    "DROPOUT_RATE = 0.1                # Dropout 比率，防止过拟合\n",
    "\n",
    "\n",
    "model = TransformerClassifier(\n",
    "    vocab_size=VOCAB_SIZE,\n",
    "    embed_dim=EMBED_DIM,\n",
    "    num_heads=NUM_HEADS,\n",
    "    num_encoder_layers=NUM_ENCODER_LAYERS,\n",
    "    ff_dim=FF_DIM,\n",
    "    num_classes=NUM_CLASSES,\n",
    "    max_len=max_len, # 从之前的配置中获取\n",
    "    dropout_rate=DROPOUT_RATE\n",
    ")\n",
    "model = model.to(device)"
   ]
  },
  {
   "cell_type": "code",
   "execution_count": 8,
   "id": "e85517e3-dc17-4ada-9ccd-1a317b17c6a7",
   "metadata": {},
   "outputs": [
    {
     "name": "stdout",
     "output_type": "stream",
     "text": [
      "TransformerClassifier(\n",
      "  (token_embedding): Embedding(21128, 256)\n",
      "  (positional_embedding): Embedding(128, 256)\n",
      "  (transformer_encoder): TransformerEncoder(\n",
      "    (layers): ModuleList(\n",
      "      (0-3): 4 x TransformerEncoderLayer(\n",
      "        (self_attn): MultiheadAttention(\n",
      "          (out_proj): NonDynamicallyQuantizableLinear(in_features=256, out_features=256, bias=True)\n",
      "        )\n",
      "        (linear1): Linear(in_features=256, out_features=512, bias=True)\n",
      "        (dropout): Dropout(p=0.1, inplace=False)\n",
      "        (linear2): Linear(in_features=512, out_features=256, bias=True)\n",
      "        (norm1): LayerNorm((256,), eps=1e-05, elementwise_affine=True)\n",
      "        (norm2): LayerNorm((256,), eps=1e-05, elementwise_affine=True)\n",
      "        (dropout1): Dropout(p=0.1, inplace=False)\n",
      "        (dropout2): Dropout(p=0.1, inplace=False)\n",
      "      )\n",
      "    )\n",
      "    (norm): LayerNorm((256,), eps=1e-05, elementwise_affine=True)\n",
      "  )\n",
      "  (dropout): Dropout(p=0.1, inplace=False)\n",
      "  (fc_out): Linear(in_features=256, out_features=2, bias=True)\n",
      ")\n",
      "模型总参数数量: 7,550,978\n",
      "模型可训练参数数量: 7,550,978\n"
     ]
    }
   ],
   "source": [
    "# 查看模型结构\n",
    "# 打印模型参数总数和可训练参数总数\n",
    "def count_parameters(model):\n",
    "    total_params = sum(p.numel() for p in model.parameters())  # 所有参数数量\n",
    "    trainable_params = sum(p.numel() for p in model.parameters() if p.requires_grad)  # 需要训练的参数数量\n",
    "    print(f\"模型总参数数量: {total_params:,}\")\n",
    "    print(f\"模型可训练参数数量: {trainable_params:,}\")\n",
    "\n",
    "print(model)\n",
    "count_parameters(model)"
   ]
  },
  {
   "cell_type": "markdown",
   "id": "66a0e293-831e-4ace-8ab3-981be5be48f8",
   "metadata": {},
   "source": [
    "## 模型训练与评估"
   ]
  },
  {
   "cell_type": "code",
   "execution_count": 9,
   "id": "579f3cd2-4a94-4a86-9bb9-5046855e0018",
   "metadata": {},
   "outputs": [
    {
     "name": "stderr",
     "output_type": "stream",
     "text": [
      "D:\\develop\\anaconda\\envs\\pytorch\\lib\\site-packages\\transformers\\optimization.py:591: FutureWarning: This implementation of AdamW is deprecated and will be removed in a future version. Use the PyTorch implementation torch.optim.AdamW instead, or set `no_deprecation_warning=True` to disable this warning\n",
      "  warnings.warn(\n"
     ]
    }
   ],
   "source": [
    "EPOCHS = 5\n",
    "LEARNING_RATE = 2e-5\n",
    "\n",
    "# AdamW 是 Adam 的变种，增加了权重衰减（weight decay）\n",
    "optimizer = AdamW(\n",
    "    model.parameters(),\n",
    "    lr=LEARNING_RATE,\n",
    "    eps=1e-8,                  # 防止除零的微小值，1e-8 是 Adam 的默认值\n",
    "    weight_decay=0.01          # 添加权重衰减（L2 正则化），防止过拟合，0.01 是常见值\n",
    ")\n",
    "\n",
    "# 计算总训练步数\n",
    "total_steps = len(train_loader) * EPOCHS\n",
    "\n",
    "# 初始化学习率调度器\n",
    "# get_linear_schedule_with_warmup 是一种常见的调度策略：\n",
    "# 1. 在 warmup 阶段，学习率从 0 线性增加到初始学习率\n",
    "# 2. 之后，学习率线性衰减到 0\n",
    "scheduler = get_linear_schedule_with_warmup(\n",
    "    optimizer,                          # 绑定的优化器\n",
    "    num_warmup_steps=int(total_steps * 0.1),  # 预热步数，10% 的总步数，逐步增加学习率以稳定训练\n",
    "    num_training_steps=total_steps      # 总训练步数，用于线性衰减\n",
    ")\n",
    "loss_fn = nn.CrossEntropyLoss().to(device)"
   ]
  },
  {
   "cell_type": "code",
   "execution_count": 10,
   "id": "fdbfde3d-bcc5-4bbc-b954-d3e576d1cb90",
   "metadata": {},
   "outputs": [],
   "source": [
    "from tqdm import tqdm\n",
    "\n",
    "# 训练函数\n",
    "def train(dataloader, model, loss_fn, optimizer):\n",
    "    model.train()  # 设置模型为训练模式\n",
    "    \n",
    "    running_loss = 0.0\n",
    "    correct = 0\n",
    "    total = 0\n",
    "\n",
    "    # 使用 tqdm 包裹数据加载器，显示进度条\n",
    "    progress_bar = tqdm(dataloader, desc=\"Training\", leave=False)\n",
    "    for item in progress_bar:\n",
    "        # 将数据移动到设备\n",
    "        input_ids = item[\"input_ids\"].to(device)\n",
    "        attention_mask = item[\"attention_mask\"].to(device)\n",
    "        labels = item[\"labels\"].to(device)\n",
    "\n",
    "        # 前向传播\n",
    "        outputs = model(input_ids=input_ids, attention_mask=attention_mask)\n",
    "        loss = loss_fn(outputs, labels)\n",
    "\n",
    "        # 反向传播和优化\n",
    "        optimizer.zero_grad()\n",
    "        loss.backward()\n",
    "        nn.utils.clip_grad_norm_(model.parameters(), max_norm=1.0)\n",
    "        optimizer.step()  # 更新模型参数\n",
    "        scheduler.step()\n",
    "\n",
    "        # 统计指标\n",
    "        running_loss += loss.item()\n",
    "        _, predicted = torch.max(outputs, 1)\n",
    "        total += labels.size(0)\n",
    "        correct += (predicted == labels).sum().item()\n",
    "\n",
    "        # 更新进度条描述\n",
    "        progress_bar.set_postfix(lr=optimizer.param_groups[0]['lr'], loss=loss.item())\n",
    "        \n",
    "    scheduler.step()  # 更新学习率       \n",
    "\n",
    "    accuracy = 100 * correct / total\n",
    "    avg_loss = running_loss / len(dataloader)\n",
    "    return avg_loss, accuracy"
   ]
  },
  {
   "cell_type": "code",
   "execution_count": 11,
   "id": "36267fd1-6b5e-4a5e-b9a7-e97652a9948c",
   "metadata": {},
   "outputs": [],
   "source": [
    "# 测试函数\n",
    "def evaluate(dataloader, model, loss_fn):\n",
    "    model.eval()  # 设置模型为评估模式\n",
    "    running_loss = 0.0\n",
    "    correct = 0\n",
    "    total = 0\n",
    "\n",
    "    with torch.no_grad():  # 关闭梯度计算\n",
    "        progress_bar = tqdm(dataloader, desc=\"Evaluating\", leave=False)\n",
    "        for item in progress_bar:\n",
    "            # 将数据移动到设备\n",
    "            input_ids = item[\"input_ids\"].to(device)\n",
    "            attention_mask = item[\"attention_mask\"].to(device)\n",
    "            labels = item[\"labels\"].to(device)\n",
    "    \n",
    "            # 前向传播\n",
    "            outputs = model(input_ids=input_ids, attention_mask=attention_mask)\n",
    "            loss = loss_fn(outputs, labels)\n",
    "\n",
    "            # 统计指标\n",
    "            running_loss += loss.item()\n",
    "            _, predicted = torch.max(outputs, 1)\n",
    "            total += labels.size(0)\n",
    "            correct += (predicted == labels).sum().item()\n",
    "            # 更新进度条描述\n",
    "            progress_bar.set_postfix(loss=loss.item())\n",
    "\n",
    "    accuracy = 100 * correct / total\n",
    "    avg_loss = running_loss / len(dataloader)\n",
    "    return avg_loss, accuracy"
   ]
  },
  {
   "cell_type": "code",
   "execution_count": 12,
   "id": "59d90b49-560f-40b2-a1cd-d2fe798c8910",
   "metadata": {},
   "outputs": [
    {
     "name": "stdout",
     "output_type": "stream",
     "text": [
      "Epoch 1/5\n"
     ]
    },
    {
     "name": "stderr",
     "output_type": "stream",
     "text": [
      "Training:   0%|                                                                               | 0/9373 [00:00<?, ?it/s]D:\\develop\\anaconda\\envs\\pytorch\\lib\\site-packages\\torch\\nn\\functional.py:5560: UserWarning: 1Torch was not compiled with flash attention. (Triggered internally at C:\\cb\\pytorch_1000000000000\\work\\aten\\src\\ATen\\native\\transformers\\cuda\\sdp_utils.cpp:555.)\n",
      "  attn_output = scaled_dot_product_attention(q, k, v, attn_mask, dropout_p, is_causal)\n",
      "Evaluating:   0%|                                                                             | 0/1042 [00:00<?, ?it/s]D:\\develop\\anaconda\\envs\\pytorch\\lib\\site-packages\\torch\\nn\\modules\\transformer.py:409: UserWarning: The PyTorch API of nested tensors is in prototype stage and will change in the near future. (Triggered internally at C:\\cb\\pytorch_1000000000000\\work\\aten\\src\\ATen\\NestedTensorImpl.cpp:180.)\n",
      "  output = torch._nested_tensor_from_mask(output, src_key_padding_mask.logical_not(), mask_check=False)\n",
      "                                                                                                                       \r"
     ]
    },
    {
     "name": "stdout",
     "output_type": "stream",
     "text": [
      "Epoch: 1, Train_acc:77.0%, Train_loss:0.519, Test_acc:80.8%，Test_loss:0.439\n",
      "Epoch 2/5\n"
     ]
    },
    {
     "name": "stderr",
     "output_type": "stream",
     "text": [
      "                                                                                                                       \r"
     ]
    },
    {
     "name": "stdout",
     "output_type": "stream",
     "text": [
      "Epoch: 2, Train_acc:81.0%, Train_loss:0.435, Test_acc:81.2%，Test_loss:0.439\n",
      "Epoch 3/5\n"
     ]
    },
    {
     "name": "stderr",
     "output_type": "stream",
     "text": [
      "                                                                                                                       \r"
     ]
    },
    {
     "name": "stdout",
     "output_type": "stream",
     "text": [
      "Epoch: 3, Train_acc:81.6%, Train_loss:0.423, Test_acc:81.4%，Test_loss:0.438\n",
      "Epoch 4/5\n"
     ]
    },
    {
     "name": "stderr",
     "output_type": "stream",
     "text": [
      "                                                                                                                       \r"
     ]
    },
    {
     "name": "stdout",
     "output_type": "stream",
     "text": [
      "Epoch: 4, Train_acc:82.1%, Train_loss:0.413, Test_acc:81.2%，Test_loss:0.439\n",
      "Epoch 5/5\n"
     ]
    },
    {
     "name": "stderr",
     "output_type": "stream",
     "text": [
      "                                                                                                                       "
     ]
    },
    {
     "name": "stdout",
     "output_type": "stream",
     "text": [
      "Epoch: 5, Train_acc:82.4%, Train_loss:0.406, Test_acc:81.5%，Test_loss:0.440\n",
      "训练完成!\n"
     ]
    },
    {
     "name": "stderr",
     "output_type": "stream",
     "text": [
      "\r"
     ]
    }
   ],
   "source": [
    "# 开始训练\n",
    "\n",
    "num_epochs = 5\n",
    "\n",
    "train_loss = []\n",
    "train_acc  = []\n",
    "test_loss  = []\n",
    "test_acc   = []\n",
    "\n",
    "for epoch in range(num_epochs):\n",
    "    print(f\"Epoch {epoch+1}/{num_epochs}\")\n",
    "    \n",
    "    epoch_train_loss, epoch_train_acc = train(train_loader, model, loss_fn, optimizer)\n",
    "\n",
    "    # 在测试集上评估\n",
    "    epoch_test_loss, epoch_test_acc = evaluate(test_loader, model, loss_fn)\n",
    "\n",
    "    train_acc.append(epoch_train_acc)\n",
    "    train_loss.append(epoch_train_loss)\n",
    "    test_acc.append(epoch_test_acc)\n",
    "    test_loss.append(epoch_test_loss)\n",
    "    # 打印训练和测试结果\n",
    "    template = ('Epoch:{:2d}, Train_acc:{:.1f}%, Train_loss:{:.3f}, Test_acc:{:.1f}%，Test_loss:{:.3f}')\n",
    "    print(template.format(epoch+1, epoch_train_acc, epoch_train_loss, epoch_test_acc, epoch_test_loss))\n",
    "\n",
    "print(\"训练完成!\")"
   ]
  },
  {
   "cell_type": "markdown",
   "id": "dcb37d44-4e75-4a91-9041-2ffe8f030b7e",
   "metadata": {},
   "source": [
    "## 结果可视化"
   ]
  },
  {
   "cell_type": "code",
   "execution_count": 13,
   "id": "21e1b89f-7b7f-4903-bddb-500fe3f39514",
   "metadata": {},
   "outputs": [
    {
     "data": {
      "image/png": "[encoded data removed]",
      "text/plain": [
       "<Figure size 1200x300 with 2 Axes>"
      ]
     },
     "metadata": {},
     "output_type": "display_data"
    }
   ],
   "source": [
    "import matplotlib.pyplot as plt\n",
    "\n",
    "epochs_range = range(num_epochs)\n",
    "\n",
    "plt.figure(figsize=(12, 3))\n",
    "plt.subplot(1, 2, 1)\n",
    "\n",
    "plt.plot(epochs_range, train_acc, label='Training Accuracy')\n",
    "plt.plot(epochs_range, test_acc, label='Test Accuracy')\n",
    "plt.legend(loc='lower right')\n",
    "plt.title('Training and Validation Accuracy')\n",
    "\n",
    "plt.subplot(1, 2, 2)\n",
    "plt.plot(epochs_range, train_loss, label='Training Loss')\n",
    "plt.plot(epochs_range, test_loss, label='Test Loss')\n",
    "plt.legend(loc='upper right')\n",
    "plt.title('Training and Validation Loss')\n",
    "plt.show()"
   ]
  },
  {
   "cell_type": "markdown",
   "id": "c30a8730-16cc-4cca-b5b7-d74bb3ed1948",
   "metadata": {},
   "source": [
    "## 保存模型"
   ]
  },
  {
   "cell_type": "code",
   "execution_count": 14,
   "id": "3e6208f1-878a-4365-9791-792833fcd9dd",
   "metadata": {},
   "outputs": [],
   "source": [
    "# 指定保存路径\n",
    "save_dir = '../models/3_Transformer_Sentiment_Classification'\n",
    "\n",
    "# 确保目录存在，如果不存在则创建\n",
    "import os\n",
    "if not os.path.exists(save_dir):\n",
    "    os.makedirs(save_dir)\n",
    "\n",
    "# 保存模型\n",
    "torch.save(model.state_dict(), os.path.join(save_dir, 'model_weights.pth'))\n",
    "\n",
    "# # 加载模型参数\n",
    "# model.load(torch.load(os.path.join(save_dir, 'model_weights.pth')))"
   ]
  }
 ],
 "metadata": {
  "kernelspec": {
   "display_name": "Python 3 (ipykernel)",
   "language": "python",
   "name": "python3"
  },
  "language_info": {
   "codemirror_mode": {
    "name": "ipython",
    "version": 3
   },
   "file_extension": ".py",
   "mimetype": "text/x-python",
   "name": "python",
   "nbconvert_exporter": "python",
   "pygments_lexer": "ipython3",
   "version": "3.8.20"
  }
 },
 "nbformat": 4,
 "nbformat_minor": 5
}
