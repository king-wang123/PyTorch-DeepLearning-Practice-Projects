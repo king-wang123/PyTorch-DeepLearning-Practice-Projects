{
 "cells": [
  {
   "cell_type": "code",
   "execution_count": 1,
   "id": "b46bdfce-8558-4db7-bf6c-e30409103a0c",
   "metadata": {},
   "outputs": [
    {
     "data": {
      "text/plain": [
       "device(type='cuda')"
      ]
     },
     "execution_count": 1,
     "metadata": {},
     "output_type": "execute_result"
    }
   ],
   "source": [
    "import torch\n",
    "import torch.nn as nn\n",
    "import torch.nn.functional as F\n",
    "from torchvision import transforms, datasets\n",
    "from torch.utils.data import DataLoader\n",
    "import matplotlib.pyplot as plt\n",
    "from tqdm import tqdm\n",
    "#隐藏警告\n",
    "import warnings\n",
    "warnings.filterwarnings(\"ignore\")               #忽略警告信息\n",
    "plt.rcParams['font.sans-serif']    = ['SimHei'] # 用来正常显示中文标签\n",
    "plt.rcParams['axes.unicode_minus'] = False      # 用来正常显示负号\n",
    "plt.rcParams['figure.dpi']         = 100        #分辨率\n",
    "\n",
    "\n",
    "device = torch.device(\"cuda\" if torch.cuda.is_available() else \"cpu\")\n",
    "device"
   ]
  },
  {
   "cell_type": "markdown",
   "id": "fb3202bf-034c-4a4e-8a39-89925e0007c5",
   "metadata": {},
   "source": [
    "### 读取（下载）MNIST数据集"
   ]
  },
  {
   "cell_type": "code",
   "execution_count": 2,
   "id": "5cc5c44b-a5f0-422d-bde6-d4d1c984f278",
   "metadata": {},
   "outputs": [],
   "source": [
    "transform = transforms.Compose([\n",
    "    transforms.ToTensor(),\n",
    "    transforms.Normalize((0.5,), (0.5,))  # 归一化到[-1, 1]，更适合tanh激活函数\n",
    "])\n",
    "\n",
    "\"\"\"\n",
    "num_workers=4 : 使用 4 个子进程来并行加载数据，这可以加快数据加载速度\n",
    "pin_memory=True : 将加载的数据张量固定在内存, 数据加载到 GPU 的速度会更快, 通常在使用 GPU 训练时，将此参数设置为 True\n",
    "\"\"\"\n",
    "train_dataset = datasets.MNIST(root='../datasets/mnist', train=True, download=True, transform=transform)  # download=True:如果没有, 下载数据集\n",
    "test_dataset = datasets.MNIST(root='../datasets/mnist', train=False, download=True, transform=transform)  # train=True训练集，=False测试集"
   ]
  },
  {
   "cell_type": "code",
   "execution_count": 3,
   "id": "12857fef-94c9-476a-b5e8-38b5a2b4105f",
   "metadata": {},
   "outputs": [],
   "source": [
    "# 增大batch_size以提高稳定性\n",
    "batch_size = 64\n",
    "\n",
    "train_loader = DataLoader(train_dataset, batch_size=batch_size, shuffle=True, num_workers=4, pin_memory=True)\n",
    "test_loader = DataLoader(test_dataset, batch_size=batch_size, shuffle=False, num_workers=4, pin_memory=True)"
   ]
  },
  {
   "cell_type": "markdown",
   "id": "b077b1f0-4933-4603-9de1-1ca9bdd53678",
   "metadata": {},
   "source": [
    "### 构建模型\n",
    "**Generator 和 Discriminator**\n",
    "\n",
    "[反卷积(Transposed conv deconv)实现原理（通俗易懂）](https://blog.csdn.net/weixin_39326879/article/details/120797857) : 在GAN中，生成器使用反卷积层将低维随机噪声转换为高分辨率图像"
   ]
  },
  {
   "cell_type": "markdown",
   "id": "0cb638e1-16ba-49d2-9df3-d988baad2961",
   "metadata": {},
   "source": [
    "#### 反卷积层（Deconvolution Layer）\n",
    "\n",
    "反卷积层，也称为**转置卷积层（Transposed Convolution Layer）**，是一种用于上采样的操作。它的作用是将低分辨率的特征图（feature map）转换为高分辨率的特征图。反卷积层在生成对抗网络（GAN）、图像分割、超分辨率等任务中非常常见。\n",
    "\n",
    "\n",
    "| 特性                | 卷积层（Convolution）                          | 反卷积层（Transposed Convolution）            |\n",
    "|---------------------|-----------------------------------------------|-----------------------------------------------|\n",
    "| **目的**            | 下采样，提取特征                              | 上采样，生成高分辨率特征图                    |\n",
    "| **输入与输出关系**  | 输入尺寸 > 输出尺寸                           | 输入尺寸 < 输出尺寸                           |\n",
    "| **计算方式**        | 通过滑动窗口和卷积核计算输出                  | 通过填充和卷积核的转置计算输出                |\n",
    "| **应用场景**        | 特征提取、分类、检测等                        | 图像生成、分割、超分辨率等                    |"
   ]
  },
  {
   "cell_type": "markdown",
   "id": "198d2b1d-7911-4d8c-bdad-c95b35e44396",
   "metadata": {},
   "source": [
    "#### Generator \n",
    "生成器的目标是从随机噪声（latent vector）和条件（condition）生成逼真的图像"
   ]
  },
  {
   "cell_type": "code",
   "execution_count": 4,
   "id": "ee6ff0a6-5c40-40a0-9f45-4416398709c7",
   "metadata": {},
   "outputs": [],
   "source": [
    "class Generator(nn.Module):\n",
    "    def __init__(self, input_dim=100, output_dim=1, class_num=10):\n",
    "        '''\n",
    "        初始化生成网络\n",
    "        :param input_dim:输入随机噪声的维度，（随机噪声是为了增加输出多样性）\n",
    "        :param output_dim:生成图像的通道数（灰度图为1，RGB图为3）\n",
    "        :param class_num:图像种类\n",
    "        '''\n",
    "        super(Generator, self).__init__()\n",
    "        \"\"\"\n",
    "         为什么需要拼接随机噪声和条件向量？\n",
    "         拼接随机噪声和条件向量的目的是将两种信息结合起来，作为生成器的输入：\n",
    "         随机噪声：提供生成数据的随机性。\n",
    "         条件向量：提供生成数据的条件信息。\n",
    "         通过拼接，生成器可以根据条件向量生成符合特定条件的数据, 同时确保每次生成的数据会有所不同\n",
    "         \"\"\"\n",
    "        self.input_dim = input_dim\n",
    "        self.class_num = class_num\n",
    "        self.output_dim = output_dim\n",
    "        \n",
    "        # 嵌入层处理条件向量(类别标签), 提高条件信息的表达能力\n",
    "        self.label_emb = nn.Embedding(class_num, class_num)\n",
    "        \n",
    "        # 全连接层，将输入向量映射到高维空间，然后通过反卷积层生成图像\n",
    "        self.fc = nn.Sequential(\n",
    "            nn.Linear(self.input_dim + self.class_num, 256),\n",
    "            nn.LeakyReLU(0.2, inplace=True),\n",
    "            nn.Linear(256, 512),\n",
    "            nn.LeakyReLU(0.2, inplace=True),\n",
    "            nn.Linear(512, 1024),\n",
    "            nn.LeakyReLU(0.2, inplace=True),\n",
    "            nn.Linear(1024, 128 * 7 * 7),\n",
    "            nn.BatchNorm1d(128 * 7 * 7),\n",
    "            nn.LeakyReLU(0.2, inplace=True)\n",
    "        )\n",
    "\n",
    "        # 反卷积层（转置卷积层），用于将高维特征图逐步上采样为最终图像\n",
    "        self.deconv = nn.Sequential(\n",
    "            nn.ConvTranspose2d(128, 128, 4, 2, 1),  # 7x7 -> 14x14\n",
    "            nn.BatchNorm2d(128),\n",
    "            nn.LeakyReLU(0.2, inplace=True),\n",
    "            nn.ConvTranspose2d(128, 64, 4, 2, 1),   # 14x14 -> 28x28\n",
    "            nn.BatchNorm2d(64),\n",
    "            nn.LeakyReLU(0.2, inplace=True),\n",
    "            nn.Conv2d(64, self.output_dim, 3, 1, 1),  # 保持尺寸不变，但细化特征\n",
    "            nn.Tanh()  # 激活函数，将输出值限制在 [-1, 1] 范围内，适合生成图像\n",
    "        )\n",
    " \n",
    "    def forward(self, noise, labels):\n",
    "        # 标签处理\n",
    "        label_embedding = self.label_emb(labels)\n",
    "        \n",
    "        # 拼接噪声和条件向量\n",
    "        x = torch.cat([noise, label_embedding], dim=1)\n",
    "        \n",
    "        # 通过全连接层\n",
    "        x = self.fc(x)\n",
    "        \n",
    "        # 重塑为特征图\n",
    "        x = x.view(-1, 128, 7, 7)\n",
    "        \n",
    "        # 通过反卷积层生成图像\n",
    "        x = self.deconv(x)\n",
    "        \n",
    "        return x"
   ]
  },
  {
   "cell_type": "markdown",
   "id": "532a2f68-9e49-45bd-9419-c483c1bac15e",
   "metadata": {},
   "source": [
    "#### Discriminator \n",
    "判别器的目标是区分输入图像是真实的还是生成的"
   ]
  },
  {
   "cell_type": "code",
   "execution_count": 5,
   "id": "a66459d5-8040-44d1-9258-edf98b3a29ca",
   "metadata": {},
   "outputs": [],
   "source": [
    "import torch.nn.utils.spectral_norm as spectral_norm\n",
    "\n",
    "class Discriminator(nn.Module):\n",
    "    def __init__(self, input_dim=1, output_dim=1, class_num=10):\n",
    "        '''\n",
    "        初始化判别网络\n",
    "        :param input_dim:输入通道数\n",
    "        :param output_dim:输出通道数\n",
    "        '''\n",
    "        super(Discriminator, self).__init__()\n",
    "        self.input_dim = input_dim\n",
    "        self.output_dim = output_dim\n",
    "        self.class_num = class_num\n",
    "\n",
    "        # 标签嵌入\n",
    "        self.label_emb = nn.Embedding(class_num, 28*28)\n",
    "\n",
    "        # 卷积层使用频谱归一化提高稳定性\n",
    "        self.conv = nn.Sequential(\n",
    "            nn.Conv2d(self.input_dim + 1, 64, 4, 2, 1),  # +1 是为了连接条件信息\n",
    "            nn.LeakyReLU(0.2, inplace=True),\n",
    "            nn.Dropout(0.3),  # 添加Dropout防止过拟合\n",
    "            \n",
    "            nn.utils.spectral_norm(nn.Conv2d(64, 128, 4, 2, 1)),  # 频谱归一化\n",
    "            nn.LeakyReLU(0.2, inplace=True),\n",
    "            nn.Dropout(0.3),\n",
    "            \n",
    "            nn.utils.spectral_norm(nn.Conv2d(128, 256, 3, 1, 1)),\n",
    "            nn.LeakyReLU(0.2, inplace=True),\n",
    "            nn.Dropout(0.3),\n",
    "        )\n",
    "        \n",
    "        # 全连接层\n",
    "        self.fc = nn.Sequential(\n",
    "            nn.utils.spectral_norm(nn.Linear(256 * 7 * 7, 1024)),\n",
    "            nn.LeakyReLU(0.2, inplace=True),\n",
    "            nn.Dropout(0.3),\n",
    "            nn.utils.spectral_norm(nn.Linear(1024, self.output_dim))\n",
    "        )\n",
    " \n",
    "    def forward(self, img, labels):\n",
    "        # 处理标签\n",
    "        batch_size, _, height, width = img.shape\n",
    "        label_embedding = self.label_emb(labels).view(batch_size, 1, height, width)\n",
    "        \n",
    "        # 连接图像和标签信息\n",
    "        x = torch.cat([img, label_embedding], dim=1)\n",
    "        \n",
    "        # 卷积层\n",
    "        x = self.conv(x)\n",
    "        \n",
    "        # 全连接层\n",
    "        x = x.view(batch_size, -1)\n",
    "        x = self.fc(x)\n",
    "        \n",
    "        return x"
   ]
  },
  {
   "cell_type": "markdown",
   "id": "17dcd94d-780b-491a-b254-1bb6e2b3b64a",
   "metadata": {},
   "source": [
    "### 模型训练"
   ]
  },
  {
   "cell_type": "code",
   "execution_count": 6,
   "id": "7f876252-f84c-4843-bfba-115e97170115",
   "metadata": {},
   "outputs": [],
   "source": [
    "# 初始化权重函数\n",
    "def weights_init(m):\n",
    "    classname = m.__class__.__name__\n",
    "    if classname.find('Conv') != -1:\n",
    "        nn.init.normal_(m.weight.data, 0.0, 0.02)\n",
    "    elif classname.find('BatchNorm') != -1:\n",
    "        nn.init.normal_(m.weight.data, 1.0, 0.02)\n",
    "        nn.init.constant_(m.bias.data, 0)\n",
    "    elif classname.find('Linear') != -1:\n",
    "        nn.init.normal_(m.weight.data, 0.0, 0.02)\n",
    "        nn.init.constant_(m.bias.data, 0)\n",
    "\n",
    "# 定义生成器和判别器\n",
    "generator = Generator(input_dim=100, output_dim=1, class_num=10).to(device)\n",
    "discriminator = Discriminator(input_dim=1, output_dim=1, class_num=10).to(device)\n",
    "\n",
    "# 应用权重初始化\n",
    "generator.apply(weights_init)\n",
    "discriminator.apply(weights_init)\n",
    "\n",
    "# 使用Adam优化器，beta参数适合GAN训练\n",
    "optimizer_G = torch.optim.Adam(generator.parameters(), lr=0.0001, betas=(0.5, 0.999))\n",
    "optimizer_D = torch.optim.Adam(discriminator.parameters(), lr=0.0002, betas=(0.5, 0.999))\n",
    "\n",
    "\n",
    "# 使用Wasserstein GAN with Gradient Penalty (WGAN-GP)损失函数\n",
    "def compute_gradient_penalty(D, real_samples, fake_samples, labels):\n",
    "    \"\"\"计算梯度惩罚项\"\"\"\n",
    "    # 随机权重项\n",
    "    alpha = torch.rand(real_samples.size(0), 1, 1, 1).to(device)\n",
    "    \n",
    "    # 在真实样本和生成样本之间进行插值\n",
    "    interpolates = (alpha * real_samples + ((1 - alpha) * fake_samples)).requires_grad_(True)\n",
    "    \n",
    "    # 计算插值样本的判别器输出\n",
    "    d_interpolates = D(interpolates, labels)\n",
    "    \n",
    "    # 获取梯度\n",
    "    gradients = torch.autograd.grad(\n",
    "        outputs=d_interpolates,\n",
    "        inputs=interpolates,\n",
    "        grad_outputs=torch.ones_like(d_interpolates),\n",
    "        create_graph=True,\n",
    "        retain_graph=True,\n",
    "        only_inputs=True\n",
    "    )[0]\n",
    "    \n",
    "    # 梯度惩罚\n",
    "    gradients = gradients.view(gradients.size(0), -1)\n",
    "    gradient_penalty = ((gradients.norm(2, dim=1) - 1) ** 2).mean()\n",
    "    \n",
    "    return gradient_penalty"
   ]
  },
  {
   "cell_type": "code",
   "execution_count": 7,
   "id": "338ab99f-9789-483d-ab7e-4b7926c4fbaf",
   "metadata": {},
   "outputs": [],
   "source": [
    "def train(dataloader, generator, discriminator, optimizer_G, optimizer_D, epoch):\n",
    "    generator.train()\n",
    "    discriminator.train()\n",
    "    running_loss_G = 0.0\n",
    "    running_loss_D = 0.0\n",
    "    \n",
    "    lambda_gp = 10  # 梯度惩罚权重\n",
    "    \n",
    "    progress_bar = tqdm(dataloader, desc=\"Training\", leave=False)\n",
    "    for index, (images, labels) in enumerate(progress_bar):\n",
    "        # 将数据移动到设备\n",
    "        batch_size = images.size(0)\n",
    "        images = images.to(device)\n",
    "        labels = labels.to(device)\n",
    "        \n",
    "        # ---------------------\n",
    "        #  训练判别器\n",
    "        # ---------------------\n",
    "        optimizer_D.zero_grad()\n",
    "        \n",
    "        # 生成随机噪声\n",
    "        z = torch.randn(batch_size, generator.input_dim).to(device)\n",
    "        \n",
    "        # 生成假图像\n",
    "        fake_images = generator(z, labels)\n",
    "        \n",
    "        # 计算真实和假图像的判别器输出\n",
    "        real_validity = discriminator(images, labels)\n",
    "        fake_validity = discriminator(fake_images.detach(), labels)\n",
    "        \n",
    "        # 梯度惩罚项\n",
    "        gradient_penalty = compute_gradient_penalty(\n",
    "            discriminator, images.data, fake_images.data, labels\n",
    "        )\n",
    "        \n",
    "        # 判别器损失 (WGAN-GP)\n",
    "        d_loss = -torch.mean(real_validity) + torch.mean(fake_validity) + lambda_gp * gradient_penalty\n",
    "        \n",
    "        # 更新判别器\n",
    "        d_loss.backward()\n",
    "        optimizer_D.step()\n",
    "        \n",
    "        running_loss_D += d_loss.item()\n",
    "        \n",
    "        # ---------------------\n",
    "        #  训练生成器\n",
    "        # ---------------------\n",
    "        # 每n_critic次更新一次生成器\n",
    "        n_critic = 5\n",
    "        if index % n_critic == 0:\n",
    "            optimizer_G.zero_grad()\n",
    "            \n",
    "            # 生成假图像\n",
    "            fake_images = generator(z, labels)\n",
    "            \n",
    "            # 判别器对假图像的评估\n",
    "            fake_validity = discriminator(fake_images, labels)\n",
    "            \n",
    "            # 生成器损失\n",
    "            g_loss = -torch.mean(fake_validity)\n",
    "            \n",
    "            # 更新生成器\n",
    "            g_loss.backward()\n",
    "            optimizer_G.step()\n",
    "            \n",
    "            running_loss_G += g_loss.item()\n",
    "            \n",
    "            # 更新进度条\n",
    "            progress_bar.set_postfix(\n",
    "                epoch=epoch+1,\n",
    "                G_loss=g_loss.item(),\n",
    "                D_loss=d_loss.item()\n",
    "            )\n",
    "        \n",
    "    avg_loss_G = running_loss_G / (len(dataloader) // n_critic)\n",
    "    avg_loss_D = running_loss_D / len(dataloader)\n",
    "    \n",
    "    return avg_loss_G, avg_loss_D"
   ]
  },
  {
   "cell_type": "code",
   "execution_count": 8,
   "id": "c9a1c0ac-5c59-4f2f-96a2-41bbff0f7e15",
   "metadata": {},
   "outputs": [],
   "source": [
    "def evaluate(dataloader, generator, discriminator, epoch):\n",
    "    generator.eval()\n",
    "    discriminator.eval()\n",
    "    running_loss_G = 0.0\n",
    "    running_loss_D = 0.0\n",
    "    \n",
    "    lambda_gp = 10  # 梯度惩罚权重\n",
    "    \n",
    "    with torch.no_grad():\n",
    "        progress_bar = tqdm(dataloader, desc=\"Evaluating\", leave=True)\n",
    "        for images, labels in progress_bar:\n",
    "            # 将数据移动到设备\n",
    "            batch_size = images.size(0)\n",
    "            images = images.to(device)\n",
    "            labels = labels.to(device)\n",
    "            \n",
    "            # 生成随机噪声\n",
    "            z = torch.randn(batch_size, generator.input_dim).to(device)\n",
    "            \n",
    "            # 生成假图像\n",
    "            fake_images = generator(z, labels)\n",
    "            \n",
    "            # 计算真实和假图像的判别器输出\n",
    "            real_validity = discriminator(images, labels)\n",
    "            fake_validity = discriminator(fake_images, labels)\n",
    "            \n",
    "            # 判别器损失 (WGAN-GP)\n",
    "            d_loss = -torch.mean(real_validity) + torch.mean(fake_validity)\n",
    "            \n",
    "            # 生成器损失\n",
    "            g_loss = -torch.mean(fake_validity)\n",
    "            \n",
    "            # 统计损失\n",
    "            running_loss_G += g_loss.item()\n",
    "            running_loss_D += d_loss.item()\n",
    "            \n",
    "            # 更新进度条\n",
    "            progress_bar.set_postfix(\n",
    "                epoch=epoch+1,\n",
    "                G_loss=g_loss.item(),\n",
    "                D_loss=d_loss.item()\n",
    "            )\n",
    "    \n",
    "    avg_loss_G = running_loss_G / len(dataloader)\n",
    "    avg_loss_D = running_loss_D / len(dataloader)\n",
    "    \n",
    "    return avg_loss_G, avg_loss_D"
   ]
  },
  {
   "cell_type": "code",
   "execution_count": 9,
   "id": "3d14364b-5bfe-421b-84d6-55c7d54e71f7",
   "metadata": {},
   "outputs": [],
   "source": [
    "# 训练过程中生成图片方便查看训练效果\n",
    "def generate_images(generator, epoch, fixed_noise=None, fixed_labels=None):\n",
    "    generator.eval()\n",
    "    with torch.no_grad():\n",
    "        num_images = 100\n",
    "        num_classes = 10\n",
    "        \n",
    "        # 使用固定噪声和标签以便比较不同epoch的进展\n",
    "        if fixed_noise is None:\n",
    "            fixed_noise = torch.randn(num_images, generator.input_dim).to(device)\n",
    "        if fixed_labels is None:\n",
    "            # 每个数字类别生成10张图片\n",
    "            fixed_labels = torch.tensor([i for i in range(num_classes) for _ in range(num_images // num_classes)]).to(device)\n",
    "        \n",
    "        # 生成图片\n",
    "        fake_images = generator(fixed_noise, fixed_labels)\n",
    "        fake_images = fake_images.cpu().detach()\n",
    "        \n",
    "        # 可视化并保存图片\n",
    "        fig, axes = plt.subplots(10, 10, figsize=(10, 10))\n",
    "        fig.subplots_adjust(hspace=0.1, wspace=0.1)\n",
    "        \n",
    "        for i, ax in enumerate(axes.flat):\n",
    "            # 转换图像范围从[-1, 1]到[0, 1]\n",
    "            img = (fake_images[i].squeeze() + 1) / 2\n",
    "            ax.imshow(img, cmap='gray')\n",
    "            ax.axis('off')\n",
    "            \n",
    "            # 在每行的第一列显示类别标签\n",
    "            if i % 10 == 0:\n",
    "                ax.set_title(f'{fixed_labels[i].item()}', fontsize=8)\n",
    "        \n",
    "        plt.savefig(f'./data/epoch_{epoch}.png', bbox_inches='tight')\n",
    "        plt.close()\n",
    "        \n",
    "        return fixed_noise, fixed_labels"
   ]
  },
  {
   "cell_type": "code",
   "execution_count": 10,
   "id": "d46b4ba4-bcbf-49c0-9c52-25b8ca7d4613",
   "metadata": {},
   "outputs": [
    {
     "name": "stderr",
     "output_type": "stream",
     "text": [
      "Evaluating: 100%|███████████████████████████████| 157/157 [00:03<00:00, 43.63it/s, D_loss=-2.22, G_loss=-27.4, epoch=1]\n"
     ]
    },
    {
     "name": "stdout",
     "output_type": "stream",
     "text": [
      "Epoch: 1, Train_loss_G:-26.288, Train_loss_D:-5.394, Test_loss_G:-27.418, Test_loss_D:-2.361\n"
     ]
    },
    {
     "name": "stderr",
     "output_type": "stream",
     "text": [
      "Evaluating: 100%|█████████████████████████████████| 157/157 [00:03<00:00, 44.97it/s, D_loss=-2.05, G_loss=-27, epoch=2]\n"
     ]
    },
    {
     "name": "stdout",
     "output_type": "stream",
     "text": [
      "Epoch: 2, Train_loss_G:-26.964, Train_loss_D:-1.955, Test_loss_G:-26.983, Test_loss_D:-2.036\n"
     ]
    },
    {
     "name": "stderr",
     "output_type": "stream",
     "text": [
      "Evaluating: 100%|███████████████████████████████| 157/157 [00:03<00:00, 45.04it/s, D_loss=-1.11, G_loss=-26.1, epoch=3]\n"
     ]
    },
    {
     "name": "stdout",
     "output_type": "stream",
     "text": [
      "Epoch: 3, Train_loss_G:-26.294, Train_loss_D:-1.687, Test_loss_G:-26.264, Test_loss_D:-1.135\n"
     ]
    },
    {
     "name": "stderr",
     "output_type": "stream",
     "text": [
      "Evaluating: 100%|███████████████████████████████| 157/157 [00:03<00:00, 45.21it/s, D_loss=-1.08, G_loss=-24.6, epoch=4]\n"
     ]
    },
    {
     "name": "stdout",
     "output_type": "stream",
     "text": [
      "Epoch: 4, Train_loss_G:-25.024, Train_loss_D:-1.349, Test_loss_G:-24.472, Test_loss_D:-1.239\n"
     ]
    },
    {
     "name": "stderr",
     "output_type": "stream",
     "text": [
      "Evaluating: 100%|███████████████████████████████| 157/157 [00:04<00:00, 39.15it/s, D_loss=-1.97, G_loss=-18.6, epoch=5]\n"
     ]
    },
    {
     "name": "stdout",
     "output_type": "stream",
     "text": [
      "Epoch: 5, Train_loss_G:-24.045, Train_loss_D:-1.107, Test_loss_G:-18.988, Test_loss_D:-0.981\n"
     ]
    },
    {
     "name": "stderr",
     "output_type": "stream",
     "text": [
      "Evaluating: 100%|███████████████████████████████| 157/157 [00:03<00:00, 43.00it/s, D_loss=0.763, G_loss=-23.1, epoch=6]\n"
     ]
    },
    {
     "name": "stdout",
     "output_type": "stream",
     "text": [
      "Epoch: 6, Train_loss_G:-23.608, Train_loss_D:-0.881, Test_loss_G:-23.193, Test_loss_D:-0.603\n"
     ]
    },
    {
     "name": "stderr",
     "output_type": "stream",
     "text": [
      "Evaluating: 100%|███████████████████████████████| 157/157 [00:03<00:00, 46.08it/s, D_loss=0.771, G_loss=-31.5, epoch=7]\n"
     ]
    },
    {
     "name": "stdout",
     "output_type": "stream",
     "text": [
      "Epoch: 7, Train_loss_G:-23.448, Train_loss_D:-0.776, Test_loss_G:-31.300, Test_loss_D:-1.303\n"
     ]
    },
    {
     "name": "stderr",
     "output_type": "stream",
     "text": [
      "Evaluating: 100%|███████████████████████████████| 157/157 [00:03<00:00, 45.48it/s, D_loss=-3.23, G_loss=-16.1, epoch=8]\n"
     ]
    },
    {
     "name": "stdout",
     "output_type": "stream",
     "text": [
      "Epoch: 8, Train_loss_G:-22.776, Train_loss_D:-0.641, Test_loss_G:-16.241, Test_loss_D:-0.995\n"
     ]
    },
    {
     "name": "stderr",
     "output_type": "stream",
     "text": [
      "Evaluating: 100%|███████████████████████████████| 157/157 [00:03<00:00, 45.15it/s, D_loss=-2.58, G_loss=-11.4, epoch=9]\n"
     ]
    },
    {
     "name": "stdout",
     "output_type": "stream",
     "text": [
      "Epoch: 9, Train_loss_G:-19.192, Train_loss_D:-0.689, Test_loss_G:-11.518, Test_loss_D:-0.593\n"
     ]
    },
    {
     "name": "stderr",
     "output_type": "stream",
     "text": [
      "Evaluating: 100%|█████████████████████████████| 157/157 [00:03<00:00, 45.44it/s, D_loss=-0.701, G_loss=-21.9, epoch=10]\n"
     ]
    },
    {
     "name": "stdout",
     "output_type": "stream",
     "text": [
      "Epoch:10, Train_loss_G:-22.790, Train_loss_D:-0.571, Test_loss_G:-21.858, Test_loss_D:-0.434\n"
     ]
    },
    {
     "name": "stderr",
     "output_type": "stream",
     "text": [
      "Evaluating: 100%|███████████████████████████████| 157/157 [00:03<00:00, 46.50it/s, D_loss=1.83, G_loss=-22.8, epoch=11]\n"
     ]
    },
    {
     "name": "stdout",
     "output_type": "stream",
     "text": [
      "Epoch:11, Train_loss_G:-22.411, Train_loss_D:-0.530, Test_loss_G:-23.062, Test_loss_D:0.031\n"
     ]
    },
    {
     "name": "stderr",
     "output_type": "stream",
     "text": [
      "Evaluating: 100%|██████████████████████████████| 157/157 [00:03<00:00, 44.11it/s, D_loss=-1.05, G_loss=-26.1, epoch=12]\n"
     ]
    },
    {
     "name": "stdout",
     "output_type": "stream",
     "text": [
      "Epoch:12, Train_loss_G:-20.840, Train_loss_D:-0.486, Test_loss_G:-26.222, Test_loss_D:-0.515\n"
     ]
    },
    {
     "name": "stderr",
     "output_type": "stream",
     "text": [
      "Evaluating: 100%|███████████████████████████████| 157/157 [00:03<00:00, 46.30it/s, D_loss=1.07, G_loss=-23.8, epoch=13]\n"
     ]
    },
    {
     "name": "stdout",
     "output_type": "stream",
     "text": [
      "Epoch:13, Train_loss_G:-20.207, Train_loss_D:-0.455, Test_loss_G:-24.116, Test_loss_D:0.073\n"
     ]
    },
    {
     "name": "stderr",
     "output_type": "stream",
     "text": [
      "Evaluating: 100%|██████████████████████████████| 157/157 [00:03<00:00, 40.21it/s, D_loss=-2.34, G_loss=-22.3, epoch=14]\n"
     ]
    },
    {
     "name": "stdout",
     "output_type": "stream",
     "text": [
      "Epoch:14, Train_loss_G:-23.558, Train_loss_D:-0.366, Test_loss_G:-22.446, Test_loss_D:-1.256\n"
     ]
    },
    {
     "name": "stderr",
     "output_type": "stream",
     "text": [
      "Evaluating: 100%|███████████████████████████████████| 157/157 [00:03<00:00, 44.93it/s, D_loss=-1, G_loss=-26, epoch=15]\n"
     ]
    },
    {
     "name": "stdout",
     "output_type": "stream",
     "text": [
      "Epoch:15, Train_loss_G:-26.863, Train_loss_D:-0.354, Test_loss_G:-26.430, Test_loss_D:-0.595\n"
     ]
    },
    {
     "name": "stderr",
     "output_type": "stream",
     "text": [
      "Evaluating: 100%|██████████████████████████████| 157/157 [00:03<00:00, 45.08it/s, D_loss=0.427, G_loss=-28.6, epoch=16]\n"
     ]
    },
    {
     "name": "stdout",
     "output_type": "stream",
     "text": [
      "Epoch:16, Train_loss_G:-28.163, Train_loss_D:-0.291, Test_loss_G:-29.112, Test_loss_D:-0.498\n"
     ]
    },
    {
     "name": "stderr",
     "output_type": "stream",
     "text": [
      "Evaluating: 100%|███████████████████████████████| 157/157 [00:03<00:00, 45.52it/s, D_loss=1.09, G_loss=-25.2, epoch=17]\n"
     ]
    },
    {
     "name": "stdout",
     "output_type": "stream",
     "text": [
      "Epoch:17, Train_loss_G:-26.051, Train_loss_D:-0.310, Test_loss_G:-25.853, Test_loss_D:-0.029\n"
     ]
    },
    {
     "name": "stderr",
     "output_type": "stream",
     "text": [
      "Evaluating: 100%|█████████████████████████████| 157/157 [00:03<00:00, 46.18it/s, D_loss=-0.495, G_loss=-26.6, epoch=18]\n"
     ]
    },
    {
     "name": "stdout",
     "output_type": "stream",
     "text": [
      "Epoch:18, Train_loss_G:-25.601, Train_loss_D:-0.312, Test_loss_G:-26.650, Test_loss_D:-0.481\n"
     ]
    },
    {
     "name": "stderr",
     "output_type": "stream",
     "text": [
      "Evaluating: 100%|██████████████████████████████| 157/157 [00:03<00:00, 46.05it/s, D_loss=0.537, G_loss=-25.7, epoch=19]\n"
     ]
    },
    {
     "name": "stdout",
     "output_type": "stream",
     "text": [
      "Epoch:19, Train_loss_G:-26.758, Train_loss_D:-0.319, Test_loss_G:-25.817, Test_loss_D:-0.134\n"
     ]
    },
    {
     "name": "stderr",
     "output_type": "stream",
     "text": [
      "Evaluating: 100%|██████████████████████████████| 157/157 [00:03<00:00, 44.54it/s, D_loss=0.296, G_loss=-28.4, epoch=20]\n"
     ]
    },
    {
     "name": "stdout",
     "output_type": "stream",
     "text": [
      "Epoch:20, Train_loss_G:-26.027, Train_loss_D:-0.166, Test_loss_G:-28.436, Test_loss_D:-0.202\n"
     ]
    },
    {
     "name": "stderr",
     "output_type": "stream",
     "text": [
      "Evaluating: 100%|███████████████████████████████| 157/157 [00:03<00:00, 46.19it/s, D_loss=-2.7, G_loss=-26.3, epoch=21]\n"
     ]
    },
    {
     "name": "stdout",
     "output_type": "stream",
     "text": [
      "Epoch:21, Train_loss_G:-29.559, Train_loss_D:-0.193, Test_loss_G:-27.006, Test_loss_D:-0.637\n"
     ]
    },
    {
     "name": "stderr",
     "output_type": "stream",
     "text": [
      "Evaluating: 100%|█████████████████████████████| 157/157 [00:03<00:00, 45.38it/s, D_loss=0.0625, G_loss=-33.3, epoch=22]\n"
     ]
    },
    {
     "name": "stdout",
     "output_type": "stream",
     "text": [
      "Epoch:22, Train_loss_G:-29.100, Train_loss_D:-0.240, Test_loss_G:-33.450, Test_loss_D:-0.301\n"
     ]
    },
    {
     "name": "stderr",
     "output_type": "stream",
     "text": [
      "Evaluating: 100%|█████████████████████████████| 157/157 [00:03<00:00, 42.00it/s, D_loss=-0.161, G_loss=-29.4, epoch=23]\n"
     ]
    },
    {
     "name": "stdout",
     "output_type": "stream",
     "text": [
      "Epoch:23, Train_loss_G:-30.264, Train_loss_D:-0.183, Test_loss_G:-29.449, Test_loss_D:-0.198\n"
     ]
    },
    {
     "name": "stderr",
     "output_type": "stream",
     "text": [
      "Evaluating: 100%|██████████████████████████████| 157/157 [00:03<00:00, 44.99it/s, D_loss=0.694, G_loss=-30.8, epoch=24]\n"
     ]
    },
    {
     "name": "stdout",
     "output_type": "stream",
     "text": [
      "Epoch:24, Train_loss_G:-30.210, Train_loss_D:-0.157, Test_loss_G:-30.884, Test_loss_D:-0.305\n"
     ]
    },
    {
     "name": "stderr",
     "output_type": "stream",
     "text": [
      "Evaluating: 100%|█████████████████████████████| 157/157 [00:03<00:00, 45.18it/s, D_loss=-0.674, G_loss=-30.8, epoch=25]\n"
     ]
    },
    {
     "name": "stdout",
     "output_type": "stream",
     "text": [
      "Epoch:25, Train_loss_G:-31.574, Train_loss_D:-0.121, Test_loss_G:-31.046, Test_loss_D:-0.025\n"
     ]
    },
    {
     "name": "stderr",
     "output_type": "stream",
     "text": [
      "Evaluating: 100%|█████████████████████████████| 157/157 [00:03<00:00, 45.02it/s, D_loss=-0.295, G_loss=-33.8, epoch=26]\n"
     ]
    },
    {
     "name": "stdout",
     "output_type": "stream",
     "text": [
      "Epoch:26, Train_loss_G:-33.373, Train_loss_D:-0.067, Test_loss_G:-33.979, Test_loss_D:-0.142\n"
     ]
    },
    {
     "name": "stderr",
     "output_type": "stream",
     "text": [
      "Evaluating: 100%|█████████████████████████████| 157/157 [00:03<00:00, 46.73it/s, D_loss=-0.624, G_loss=-32.4, epoch=27]\n"
     ]
    },
    {
     "name": "stdout",
     "output_type": "stream",
     "text": [
      "Epoch:27, Train_loss_G:-33.526, Train_loss_D:-0.104, Test_loss_G:-32.634, Test_loss_D:-0.330\n"
     ]
    },
    {
     "name": "stderr",
     "output_type": "stream",
     "text": [
      "Evaluating: 100%|█████████████████████████████████| 157/157 [00:03<00:00, 45.52it/s, D_loss=0.05, G_loss=-31, epoch=28]\n"
     ]
    },
    {
     "name": "stdout",
     "output_type": "stream",
     "text": [
      "Epoch:28, Train_loss_G:-31.969, Train_loss_D:-0.037, Test_loss_G:-31.179, Test_loss_D:0.150\n"
     ]
    },
    {
     "name": "stderr",
     "output_type": "stream",
     "text": [
      "Evaluating: 100%|████████████████████████████| 157/157 [00:03<00:00, 45.30it/s, D_loss=-0.0176, G_loss=-31.3, epoch=29]\n"
     ]
    },
    {
     "name": "stdout",
     "output_type": "stream",
     "text": [
      "Epoch:29, Train_loss_G:-32.167, Train_loss_D:0.026, Test_loss_G:-31.351, Test_loss_D:-0.090\n"
     ]
    },
    {
     "name": "stderr",
     "output_type": "stream",
     "text": [
      "Evaluating: 100%|████████████████████████████████| 157/157 [00:03<00:00, 44.38it/s, D_loss=0.508, G_loss=-32, epoch=30]\n"
     ]
    },
    {
     "name": "stdout",
     "output_type": "stream",
     "text": [
      "Epoch:30, Train_loss_G:-31.688, Train_loss_D:-0.038, Test_loss_G:-32.037, Test_loss_D:0.044\n",
      "训练完成!\n"
     ]
    }
   ],
   "source": [
    "# 开始训练\n",
    "num_epochs = 30\n",
    "train_loss_G = []\n",
    "train_loss_D = []\n",
    "test_loss_G = []\n",
    "test_loss_D = []\n",
    "\n",
    "# 创建固定噪声和标签用于图像生成\n",
    "fixed_noise = torch.randn(100, generator.input_dim).to(device)\n",
    "fixed_labels = torch.tensor([i for i in range(10) for _ in range(10)]).to(device)\n",
    "\n",
    "# 学习率调度器\n",
    "scheduler_G = torch.optim.lr_scheduler.ReduceLROnPlateau(optimizer_G, mode='min', factor=0.5, patience=5, verbose=True)\n",
    "scheduler_D = torch.optim.lr_scheduler.ReduceLROnPlateau(optimizer_D, mode='min', factor=0.5, patience=5, verbose=True)\n",
    "\n",
    "# 训练循环\n",
    "for epoch in range(num_epochs):\n",
    "    # 训练\n",
    "    epoch_train_loss_G, epoch_train_loss_D = train(train_loader, generator, discriminator, optimizer_G, optimizer_D, epoch)\n",
    "    \n",
    "    # 在测试集上评估\n",
    "    epoch_test_loss_G, epoch_test_loss_D = evaluate(test_loader, generator, discriminator, epoch)\n",
    "    \n",
    "    # 学习率调度\n",
    "    scheduler_G.step(epoch_test_loss_G)\n",
    "    scheduler_D.step(epoch_test_loss_D)\n",
    "    \n",
    "    # 记录损失\n",
    "    train_loss_G.append(epoch_train_loss_G)\n",
    "    train_loss_D.append(epoch_train_loss_D)\n",
    "    test_loss_G.append(epoch_test_loss_G)\n",
    "    test_loss_D.append(epoch_test_loss_D)\n",
    "    \n",
    "    # 打印训练和测试结果\n",
    "    template = ('Epoch:{:2d}, Train_loss_G:{:.3f}, Train_loss_D:{:.3f}, Test_loss_G:{:.3f}, Test_loss_D:{:.3f}')\n",
    "    print(template.format(epoch+1, epoch_train_loss_G, epoch_train_loss_D, epoch_test_loss_G, epoch_test_loss_D))\n",
    "    \n",
    "    # 每 5 个 epoch 生成并保存图片\n",
    "    if (epoch + 1) % 5 == 0 or epoch == 0:\n",
    "        generate_images(generator, epoch + 1, fixed_noise, fixed_labels)\n",
    "\n",
    "\n",
    "print(\"训练完成!\")"
   ]
  },
  {
   "cell_type": "markdown",
   "id": "0464f73e-cdf8-41ae-a3ff-5ca64fc8a295",
   "metadata": {},
   "source": [
    "### 结果可视化"
   ]
  },
  {
   "cell_type": "code",
   "execution_count": 11,
   "id": "cfa7bec7-b7fe-4b38-bcab-d4cebf4800d4",
   "metadata": {},
   "outputs": [
    {
     "data": {
      "image/png": "[encoded data removed]",
      "text/plain": [
       "<Figure size 1200x300 with 2 Axes>"
      ]
     },
     "metadata": {},
     "output_type": "display_data"
    }
   ],
   "source": [
    "epochs_range = range(num_epochs)\n",
    "\n",
    "plt.figure(figsize=(12, 3))\n",
    "\n",
    "plt.subplot(1, 2, 1)\n",
    "plt.plot(epochs_range, train_loss_G, label='Training Generator Loss')\n",
    "plt.plot(epochs_range, train_loss_D, label='Training Discriminator Loss')\n",
    "plt.legend(loc='upper right')\n",
    "plt.title('Training and Validation Loss')\n",
    "\n",
    "plt.subplot(1, 2, 2)\n",
    "plt.plot(epochs_range, test_loss_G, label='Test Generator Loss')\n",
    "plt.plot(epochs_range, test_loss_D, label='Test Discriminator Loss')\n",
    "plt.legend(loc='upper right')\n",
    "plt.title('Training and Validation Loss')\n",
    "\n",
    "plt.show()"
   ]
  },
  {
   "cell_type": "markdown",
   "id": "bf0e77fd-589a-4752-afde-a386b264e73a",
   "metadata": {},
   "source": [
    "### 模型保存"
   ]
  },
  {
   "cell_type": "code",
   "execution_count": 12,
   "id": "14d399db-c56a-446c-b8e9-19baadbcf4ab",
   "metadata": {},
   "outputs": [],
   "source": [
    "# 指定保存路径\n",
    "save_dir = '../models/4_GAN_Image_Generator'\n",
    "\n",
    "# 确保目录存在，如果不存在则创建\n",
    "import os\n",
    "if not os.path.exists(save_dir):\n",
    "    os.makedirs(save_dir)\n",
    "\n",
    "# 保存模型\n",
    "torch.save(generator.state_dict(), os.path.join(save_dir, 'MINIST_generator.pth'))"
   ]
  },
  {
   "cell_type": "code",
   "execution_count": null,
   "id": "9e13bdb3-1256-4f9f-a1a5-fd6265d9a808",
   "metadata": {},
   "outputs": [],
   "source": []
  }
 ],
 "metadata": {
  "kernelspec": {
   "display_name": "Python 3 (ipykernel)",
   "language": "python",
   "name": "python3"
  },
  "language_info": {
   "codemirror_mode": {
    "name": "ipython",
    "version": 3
   },
   "file_extension": ".py",
   "mimetype": "text/x-python",
   "name": "python",
   "nbconvert_exporter": "python",
   "pygments_lexer": "ipython3",
   "version": "3.8.20"
  }
 },
 "nbformat": 4,
 "nbformat_minor": 5
}
