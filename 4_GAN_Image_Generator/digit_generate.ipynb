{
 "cells": [
  {
   "cell_type": "code",
   "execution_count": 1,
   "id": "28b2116b-d8db-4ecf-931b-6faf03950b26",
   "metadata": {},
   "outputs": [
    {
     "data": {
      "text/plain": [
       "device(type='cuda')"
      ]
     },
     "execution_count": 1,
     "metadata": {},
     "output_type": "execute_result"
    }
   ],
   "source": [
    "import torch\n",
    "import torch.nn as nn\n",
    "import matplotlib.pyplot as plt\n",
    "import torchvision.transforms as transforms\n",
    "from PIL import Image\n",
    "\n",
    "device = torch.device(\"cuda\" if torch.cuda.is_available() else \"cpu\")\n",
    "device"
   ]
  },
  {
   "cell_type": "markdown",
   "id": "cb810376-7bd1-4ce1-8e70-f67001d1f27b",
   "metadata": {},
   "source": [
    "### 加载模型"
   ]
  },
  {
   "cell_type": "markdown",
   "id": "236d9a7f-674f-42c5-9a81-587ddd6aac18",
   "metadata": {},
   "source": [
    "加载生成器模型"
   ]
  },
  {
   "cell_type": "code",
   "execution_count": 2,
   "id": "5dc72b2e-ec95-4b68-926f-2e02e2652be8",
   "metadata": {},
   "outputs": [
    {
     "name": "stderr",
     "output_type": "stream",
     "text": [
      "C:\\Users\\PC\\AppData\\Local\\Temp\\ipykernel_26204\\4019217968.py:69: FutureWarning: You are using `torch.load` with `weights_only=False` (the current default value), which uses the default pickle module implicitly. It is possible to construct malicious pickle data which will execute arbitrary code during unpickling (See https://github.com/pytorch/pytorch/blob/main/SECURITY.md#untrusted-models for more details). In a future release, the default value for `weights_only` will be flipped to `True`. This limits the functions that could be executed during unpickling. Arbitrary objects will no longer be allowed to be loaded via this mode unless they are explicitly allowlisted by the user via `torch.serialization.add_safe_globals`. We recommend you start setting `weights_only=True` for any use case where you don't have full control of the loaded file. Please open an issue on GitHub for any issues related to this experimental feature.\n",
      "  generator.load_state_dict(torch.load(model_path))\n"
     ]
    },
    {
     "data": {
      "text/plain": [
       "<All keys matched successfully>"
      ]
     },
     "execution_count": 2,
     "metadata": {},
     "output_type": "execute_result"
    }
   ],
   "source": [
    "class Generator(nn.Module):\n",
    "    def __init__(self, input_dim=100, output_dim=1, class_num=10):\n",
    "        '''\n",
    "        初始化生成网络\n",
    "        :param input_dim:输入随机噪声的维度，（随机噪声是为了增加输出多样性）\n",
    "        :param output_dim:生成图像的通道数（灰度图为1，RGB图为3）\n",
    "        :param class_num:图像种类\n",
    "        '''\n",
    "        super(Generator, self).__init__()\n",
    "        \"\"\"\n",
    "         为什么需要拼接随机噪声和条件向量？\n",
    "         拼接随机噪声和条件向量的目的是将两种信息结合起来，作为生成器的输入：\n",
    "         随机噪声：提供生成数据的随机性。\n",
    "         条件向量：提供生成数据的条件信息。\n",
    "         通过拼接，生成器可以根据条件向量生成符合特定条件的数据, 同时确保每次生成的数据会有所不同\n",
    "         \"\"\"\n",
    "        self.input_dim = input_dim\n",
    "        self.class_num = class_num\n",
    "        self.output_dim = output_dim\n",
    "        \n",
    "        # 嵌入层处理条件向量(类别标签), 提高条件信息的表达能力\n",
    "        self.label_emb = nn.Embedding(class_num, class_num)\n",
    "        \n",
    "        # 全连接层，将输入向量映射到高维空间，然后通过反卷积层生成图像\n",
    "        self.fc = nn.Sequential(\n",
    "            nn.Linear(self.input_dim + self.class_num, 256),\n",
    "            nn.LeakyReLU(0.2, inplace=True),\n",
    "            nn.Linear(256, 512),\n",
    "            nn.LeakyReLU(0.2, inplace=True),\n",
    "            nn.Linear(512, 1024),\n",
    "            nn.LeakyReLU(0.2, inplace=True),\n",
    "            nn.Linear(1024, 128 * 7 * 7),\n",
    "            nn.BatchNorm1d(128 * 7 * 7),\n",
    "            nn.LeakyReLU(0.2, inplace=True)\n",
    "        )\n",
    "\n",
    "        # 反卷积层（转置卷积层），用于将高维特征图逐步上采样为最终图像\n",
    "        self.deconv = nn.Sequential(\n",
    "            nn.ConvTranspose2d(128, 128, 4, 2, 1),  # 7x7 -> 14x14\n",
    "            nn.BatchNorm2d(128),\n",
    "            nn.LeakyReLU(0.2, inplace=True),\n",
    "            nn.ConvTranspose2d(128, 64, 4, 2, 1),   # 14x14 -> 28x28\n",
    "            nn.BatchNorm2d(64),\n",
    "            nn.LeakyReLU(0.2, inplace=True),\n",
    "            nn.Conv2d(64, self.output_dim, 3, 1, 1),  # 保持尺寸不变，但细化特征\n",
    "            nn.Tanh()  # 激活函数，将输出值限制在 [-1, 1] 范围内，适合生成图像\n",
    "        )\n",
    " \n",
    "    def forward(self, noise, labels):\n",
    "        # 标签处理\n",
    "        label_embedding = self.label_emb(labels)\n",
    "        \n",
    "        # 拼接噪声和条件向量\n",
    "        x = torch.cat([noise, label_embedding], dim=1)\n",
    "        \n",
    "        # 通过全连接层\n",
    "        x = self.fc(x)\n",
    "        \n",
    "        # 重塑为特征图\n",
    "        x = x.view(-1, 128, 7, 7)\n",
    "        \n",
    "        # 通过反卷积层生成图像\n",
    "        x = self.deconv(x)\n",
    "        \n",
    "        return x\n",
    "\n",
    "generator = Generator().to(device)\n",
    "model_path = '../models/4_GAN_Image_Generator/MINIST_generator.pth'\n",
    "generator.load_state_dict(torch.load(model_path))"
   ]
  },
  {
   "cell_type": "markdown",
   "id": "992d8fda-ac50-441a-95b4-e4500b25368f",
   "metadata": {},
   "source": [
    "### 手写数字图像生成"
   ]
  },
  {
   "cell_type": "code",
   "execution_count": 3,
   "id": "810ace5f-ffa4-4dd6-9ff9-b88db3571ea8",
   "metadata": {},
   "outputs": [],
   "source": [
    "def generate_digit_image(generator, digit):\n",
    "    \"\"\"\n",
    "    生成指定数字的图片\n",
    "    :param generator: 训练好的生成器模型\n",
    "    :param digit: 要生成的数字 (0-9)\n",
    "    :return: 生成的图片 (PIL 图像)\n",
    "    \"\"\"\n",
    "    generator.eval()  # 设置为评估模式\n",
    "    with torch.no_grad():\n",
    "        # 生成随机噪声\n",
    "        noise = torch.randn(1, generator.input_dim).to(device)\n",
    "        \n",
    "        # 创建标签\n",
    "        label = torch.tensor([digit]).to(device)\n",
    "        \n",
    "        # 生成图片\n",
    "        fake_image = generator(noise, label)\n",
    "        \n",
    "        # 将图片从 [-1, 1] 转换到 [0, 1]\n",
    "        fake_image = (fake_image.squeeze().cpu() + 1) / 2.0\n",
    "        \n",
    "        # 将 2D 张量 (H, W) 转换为 3D 张量 (1, H, W)\n",
    "        fake_image = fake_image.unsqueeze(0)\n",
    "        \n",
    "        # 转换为 PIL 图像\n",
    "        fake_image = transforms.ToPILImage()(fake_image)\n",
    "        \n",
    "        return fake_image\n"
   ]
  },
  {
   "cell_type": "code",
   "execution_count": 4,
   "id": "1f5562b0-1932-4d67-b264-1bb4755c8b4c",
   "metadata": {},
   "outputs": [
    {
     "name": "stdout",
     "output_type": "stream",
     "text": [
      "图片已保存到 ./data/demo.png\n"
     ]
    }
   ],
   "source": [
    "# 生成一个包含 10x10 个不同数字的大图片，并保存到本地\n",
    "plt.figure(figsize=(10, 10))  # 设置画布大小\n",
    "plt.subplots_adjust(wspace=0.1, hspace=0.1)  # 调整子图间距\n",
    "\n",
    "for i in range(10):  # 行\n",
    "    for j in range(10):  # 列\n",
    "        # 生成数字 j 的图片\n",
    "        digit_image = generate_digit_image(generator, j)\n",
    "        \n",
    "        # 将图片添加到子图中\n",
    "        ax = plt.subplot(10, 10, i * 10 + j + 1)\n",
    "        ax.imshow(digit_image, cmap='gray')\n",
    "        ax.axis('off')  # 关闭坐标轴\n",
    "\n",
    "save_path = './data/demo.png'\n",
    "# 保存大图片\n",
    "plt.savefig(save_path, bbox_inches='tight')\n",
    "plt.close()\n",
    "print(f\"图片已保存到 {save_path}\")"
   ]
  },
  {
   "cell_type": "code",
   "execution_count": null,
   "id": "cdca719b-16f7-4557-a5a2-3294f8377138",
   "metadata": {},
   "outputs": [],
   "source": []
  }
 ],
 "metadata": {
  "kernelspec": {
   "display_name": "Python 3 (ipykernel)",
   "language": "python",
   "name": "python3"
  },
  "language_info": {
   "codemirror_mode": {
    "name": "ipython",
    "version": 3
   },
   "file_extension": ".py",
   "mimetype": "text/x-python",
   "name": "python",
   "nbconvert_exporter": "python",
   "pygments_lexer": "ipython3",
   "version": "3.8.20"
  }
 },
 "nbformat": 4,
 "nbformat_minor": 5
}
